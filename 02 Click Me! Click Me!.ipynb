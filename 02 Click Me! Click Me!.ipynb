{
 "cells": [
  {
   "cell_type": "markdown",
   "metadata": {},
   "source": [
    "### Let's learn the basics of Python and Jupyter Notebook\n",
    "1. We start by importing the necessary Python libraries. \n",
    "  - To import the IPython.display library, click on the cell below (You can tell if the cell is slected if you see aGreen outline surrounding the cell), and \n",
    "  - Hit Shift + Enter on your keyboard or Click on the Run button from the Dashboard above \n"
   ]
  },
  {
   "cell_type": "code",
   "execution_count": null,
   "metadata": {},
   "outputs": [],
   "source": [
    "# Import necessary packages\n",
    "import IPython.display"
   ]
  },
  {
   "cell_type": "markdown",
   "metadata": {},
   "source": [
    "2. Congratulations! You have successfully imported a python library\n",
    "  - Notice the nuber inside the square brackets? Eg. In [1]. \n",
    "  - Select the above cell once again and Hit Shift + Enter on your keyboard and see what happens\n",
    "  - The number increases Eg. In [2]. The number indicate the order of execution of the codes in the cell and In indicate Input\n",
    "  - The [*] indicates that the code is still running"
   ]
  },
  {
   "cell_type": "markdown",
   "metadata": {},
   "source": [
    "3. Too much text? Let's learn to open images\n",
    "  - Click on the cell below and Press Shift+Enter"
   ]
  },
  {
   "cell_type": "code",
   "execution_count": null,
   "metadata": {},
   "outputs": [],
   "source": [
    "# Display an image \n",
    "IPython.display.Image(filename=\"/home/pi/Desktop/me35Notebook/images/chrisNew.png\", width=400, height=400)"
   ]
  },
  {
   "cell_type": "markdown",
   "metadata": {},
   "source": [
    "4. In the above cell, change the filename to ethan.png if it's chrisNew.png (or vice-versa), and see what happens\n",
    "  - These files are saved on the Raspberry Pi. You can add your own image by going back to the main tab and click on Upload (on the top right side of the screen)"
   ]
  },
  {
   "cell_type": "markdown",
   "metadata": {},
   "source": [
    "5. You can also open images using an url"
   ]
  },
  {
   "cell_type": "code",
   "execution_count": null,
   "metadata": {},
   "outputs": [],
   "source": [
    "# Display and image using url\n",
    "IPython.display.Image(url=\"https://raw.githubusercontent.com/dipeshwor/SNAPR/master/images/SNAPR-details2.jpg\")"
   ]
  },
  {
   "cell_type": "markdown",
   "metadata": {},
   "source": [
    "6. We can also open a webpage! How cool is that?"
   ]
  },
  {
   "cell_type": "code",
   "execution_count": null,
   "metadata": {
    "scrolled": true
   },
   "outputs": [],
   "source": [
    "# Display a webpage\n",
    "IPython.display.IFrame(src=\"https://ipython.readthedocs.io/en/stable/api/generated/IPython.display.html\", width=\"100%\", height=800)"
   ]
  },
  {
   "cell_type": "markdown",
   "metadata": {},
   "source": [
    "7. Review the Python documentation to exlpore what else you can do using the IPython.display module "
   ]
  },
  {
   "cell_type": "markdown",
   "metadata": {},
   "source": [
    "8. You can change the positions of the cell by using the Up or Down icons on the Dashboard next to the Run button. It might be useful if you want to restructure your code. You can also delete a cell by going to Edit>Delete Cells"
   ]
  },
  {
   "cell_type": "markdown",
   "metadata": {},
   "source": [
    "9. Lets export the widgets module. First, let's import the necessary Python libraries"
   ]
  },
  {
   "cell_type": "code",
   "execution_count": null,
   "metadata": {},
   "outputs": [],
   "source": [
    "# Import necessary Python libraries\n",
    "from ipywidgets import widgets\n",
    "from IPython.display import display"
   ]
  },
  {
   "cell_type": "markdown",
   "metadata": {},
   "source": [
    "10. Lets create a function to print the input from the user"
   ]
  },
  {
   "cell_type": "code",
   "execution_count": null,
   "metadata": {},
   "outputs": [],
   "source": [
    "# Function to print the user input \n",
    "def handle_submit(sender):\n",
    "    print(\"Hello \" + userInput.value + \". Enjoying learning Python?\")"
   ]
  },
  {
   "cell_type": "markdown",
   "metadata": {},
   "source": [
    "11. Lets ask the user for their name and display the message"
   ]
  },
  {
   "cell_type": "code",
   "execution_count": null,
   "metadata": {},
   "outputs": [],
   "source": [
    "# Ask for user input\n",
    "print(\"Enter your name and press Enter:\")\n",
    "userInput = widgets.Text()\n",
    "display(userInput)\n",
    "\n",
    "# Call the submit function when the user presses Enter \n",
    "userInput.on_submit(handle_submit)"
   ]
  },
  {
   "cell_type": "markdown",
   "metadata": {},
   "source": [
    "12. Lets print a message when a button is pressed. Lets first create a function to print a message when the button clicked"
   ]
  },
  {
   "cell_type": "code",
   "execution_count": null,
   "metadata": {},
   "outputs": [],
   "source": [
    "# Function to handle button click\n",
    "def on_button_clicked(b):\n",
    "    print(\"Hey! \" + str(userInput.value) +\". Did you click the button?\")"
   ]
  },
  {
   "cell_type": "markdown",
   "metadata": {},
   "source": [
    "13. Lets create a button and call the function to print the message"
   ]
  },
  {
   "cell_type": "code",
   "execution_count": null,
   "metadata": {},
   "outputs": [],
   "source": [
    "# Display the button\n",
    "button = widgets.Button(description=\"Click Me!\")\n",
    "display(button)\n",
    "\n",
    "# Call on_button_clicked function to print the message\n",
    "button.on_click(on_button_clicked)"
   ]
  },
  {
   "cell_type": "markdown",
   "metadata": {},
   "source": [
    "14. Try changing the name on the User Input Text box and hit the Click Me button again"
   ]
  },
  {
   "cell_type": "markdown",
   "metadata": {},
   "source": [
    "15. Why do you think we added 'str' in the print statement in the on_button_clicked function?\n",
    "  - Can you ask the user for two numbers and then print the corresponding sum and product?"
   ]
  },
  {
   "cell_type": "markdown",
   "metadata": {},
   "source": [
    "16. Lets create a program to convert the input from the user to Uppercase "
   ]
  },
  {
   "cell_type": "code",
   "execution_count": null,
   "metadata": {},
   "outputs": [],
   "source": [
    "# Function to convert the input text to uppercase \n",
    "inputText = widgets.Text()\n",
    "def makeUpper(sender):\n",
    "    outputText.value = inputText.value.upper()"
   ]
  },
  {
   "cell_type": "code",
   "execution_count": null,
   "metadata": {},
   "outputs": [],
   "source": [
    "# Display the output text \n",
    "print(\"Ouput text will be displayed here\")\n",
    "outputText = widgets.Text()\n",
    "outputText"
   ]
  },
  {
   "cell_type": "code",
   "execution_count": null,
   "metadata": {},
   "outputs": [],
   "source": [
    "# Get input from the user\n",
    "print (\"Enter a sentence and Press Enter\")\n",
    "inputText.on_submit(makeUpper)\n",
    "inputText"
   ]
  },
  {
   "cell_type": "markdown",
   "metadata": {},
   "source": [
    "17. Can you print the output 5 times?"
   ]
  },
  {
   "cell_type": "code",
   "execution_count": null,
   "metadata": {},
   "outputs": [],
   "source": [
    "# for loop \n",
    "for i in range(5):\n",
    "    print(outputText.value)"
   ]
  },
  {
   "cell_type": "markdown",
   "metadata": {},
   "source": [
    "18. The output got displayed really fast. Let's control it by using the time library"
   ]
  },
  {
   "cell_type": "code",
   "execution_count": null,
   "metadata": {},
   "outputs": [],
   "source": [
    "# Import time library\n",
    "import time"
   ]
  },
  {
   "cell_type": "code",
   "execution_count": null,
   "metadata": {},
   "outputs": [],
   "source": [
    "# for loop with a delay of 1 second \n",
    "for i in range(5):\n",
    "    print(outputText.value)\n",
    "    time.sleep(1)"
   ]
  },
  {
   "cell_type": "markdown",
   "metadata": {},
   "source": [
    "19. What if you print the output continuously?"
   ]
  },
  {
   "cell_type": "code",
   "execution_count": null,
   "metadata": {},
   "outputs": [],
   "source": [
    "# while loop \n",
    "# Press 'i' twice to interrupt the while loop \n",
    "while True:\n",
    "    print(outputText.value)\n",
    "    time.sleep(1)"
   ]
  },
  {
   "cell_type": "markdown",
   "metadata": {},
   "source": [
    "20. Notice the [*] when we run the while loop? We need to interrupt the kernel if the loop gets stuck. Alternatively, you can click on Kernel>Interrupt from the menu bar. \n",
    "  - Try Interrupting the loop"
   ]
  },
  {
   "cell_type": "markdown",
   "metadata": {},
   "source": [
    "21. Yay! You've made it to the end of this tutorial. \n",
    "  - Please click on Kernel>Restart and Clear Output and Click on \"Restart and Clear All Outputs\" so that the next person going throught the tutorial can start fresh. Thanks. "
   ]
  },
  {
   "cell_type": "code",
   "execution_count": null,
   "metadata": {},
   "outputs": [],
   "source": []
  }
 ],
 "metadata": {
  "kernelspec": {
   "display_name": "Python 3",
   "language": "python",
   "name": "python3"
  },
  "language_info": {
   "codemirror_mode": {
    "name": "ipython",
    "version": 3
   },
   "file_extension": ".py",
   "mimetype": "text/x-python",
   "name": "python",
   "nbconvert_exporter": "python",
   "pygments_lexer": "ipython3",
   "version": "3.7.3"
  }
 },
 "nbformat": 4,
 "nbformat_minor": 4
}
