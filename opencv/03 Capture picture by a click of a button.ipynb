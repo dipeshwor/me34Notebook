{
 "cells": [
  {
   "cell_type": "markdown",
   "metadata": {},
   "source": [
    "### Let's learn to take pictures by clicking a button on Jupyter Notebook\n",
    "1. We start by importing the necessary Python libraries. \n",
    "  - To import the libraries, click on the cell below (You can tell if the cell is slected if you see a Green outline surrounding the cell), and \n",
    "  - Hit Shift + Enter on your keyboard or Click on the Run button from the Dashboard above \n"
   ]
  },
  {
   "cell_type": "code",
   "execution_count": 1,
   "metadata": {},
   "outputs": [],
   "source": [
    "# Import necessary Python libraries \n",
    "# OpenCV library\n",
    "import cv2\n",
    "# Python Imaging Library useed to load images from files, and to create new images\n",
    "import PIL.Image\n",
    "# BytesIO implements read and write bytes data in memory\n",
    "from io import BytesIO\n",
    "# Library to display stuff and clear stuff on Jupyer Notebook \n",
    "import IPython.display\n",
    "from IPython.display import clear_output\n",
    "# Library that makes calls to openCV a bit more convinient \n",
    "import imutils\n",
    "# Useful library for array manipulation \n",
    "import numpy as np\n",
    "# Time library for delay \n",
    "import time\n",
    "# Library to integrate buttons and user inputs\n",
    "from ipywidgets import widgets\n",
    "# Import library for threading \n",
    "import datetime, threading"
   ]
  },
  {
   "cell_type": "markdown",
   "metadata": {},
   "source": [
    "2. Lets declare the necessary variables "
   ]
  },
  {
   "cell_type": "code",
   "execution_count": 2,
   "metadata": {},
   "outputs": [],
   "source": [
    "# Declare variables\n",
    "next_call = time.time()"
   ]
  },
  {
   "cell_type": "markdown",
   "metadata": {},
   "source": [
    "3. Set the flag to 0 at the start "
   ]
  },
  {
   "cell_type": "code",
   "execution_count": 3,
   "metadata": {},
   "outputs": [],
   "source": [
    "# Set flag to 0\n",
    "f = open(\"flag.txt\", \"w\")\n",
    "f.write(\"0\")\n",
    "f.close()"
   ]
  },
  {
   "cell_type": "markdown",
   "metadata": {},
   "source": [
    "4. Lets create a function that converts array data to image "
   ]
  },
  {
   "cell_type": "code",
   "execution_count": 4,
   "metadata": {},
   "outputs": [],
   "source": [
    "#Function that converts array data to image\n",
    "def array_to_image(a, fmt='jpeg'):\n",
    "    # Create binary stream object\n",
    "    f = BytesIO()\n",
    "    \n",
    "    # Convert array to binary stream object\n",
    "    PIL.Image.fromarray(a).save(f, fmt)\n",
    "    \n",
    "    return IPython.display.Image(data=f.getvalue())"
   ]
  },
  {
   "cell_type": "markdown",
   "metadata": {},
   "source": [
    "5. Lets create a function to read the frame from camera\n",
    "  - We can use the cv2.flip() function to change the orientation of the image feed"
   ]
  },
  {
   "cell_type": "code",
   "execution_count": 5,
   "metadata": {},
   "outputs": [],
   "source": [
    "# Function to read the frame form camera\n",
    "def get_frame(cam):\n",
    "    # Capture frame-by-frame\n",
    "    ret, frame = cam.read()\n",
    "    #flip image for natural viewing\n",
    "    #frame = cv2.flip(frame, 1)\n",
    "\n",
    "    return frame"
   ]
  },
  {
   "cell_type": "markdown",
   "metadata": {},
   "source": [
    "6. Lets create a timer callback that calls itself every 1 second"
   ]
  },
  {
   "cell_type": "code",
   "execution_count": 6,
   "metadata": {},
   "outputs": [],
   "source": [
    "# Timer callback to check if the flag is high or not \n",
    "def callFunction():\n",
    "    global next_call\n",
    "    #print(datetime.datetime.now())\n",
    "    next_call = next_call + 1\n",
    "    # Open the file to see if the flag is set high \n",
    "    f = open(\"flag.txt\", \"r\")\n",
    "    flag=f.read()\n",
    "    f.close()\n",
    "    # Save the file to disk, if the flag is high\n",
    "    # open and set the flag to 0 again:\n",
    "    if flag=='1':\n",
    "        frame = get_frame(cam)\n",
    "        # Save the file according to time stamp\n",
    "        rightNow=datetime.datetime.now()\n",
    "        filename=str(rightNow.year)+\"_\"+str(rightNow.month)+\"_\"+str(rightNow.day)+\"_\"+str(rightNow.hour)+\"_\"+str(rightNow.minute)+\"_\"+str(rightNow.second)\n",
    "        cv2.imwrite(\"/home/pi/Desktop/me35Notebook/images/\"+filename+\".png\", frame)\n",
    "        print(\"Captured \"+ filename)\n",
    "        # Make a copy of the file so that users can access the latest captured image\n",
    "        cv2.imwrite(\"/home/pi/Desktop/me35Notebook/images/image.png\", frame)\n",
    "        flag=0\n",
    "        f = open(\"flag.txt\", \"w\")\n",
    "        f.write(\"0\")\n",
    "        f.close()\n",
    "    f = open(\"flag.txt\", \"r\")\n",
    "    #print(f.read())\n",
    "    f.close()\n",
    "        \n",
    "    threading.Timer(next_call-time.time(), callFunction).start()"
   ]
  },
  {
   "cell_type": "markdown",
   "metadata": {},
   "source": [
    "7. Lets create function that updates the flag to 1 when you click the button"
   ]
  },
  {
   "cell_type": "code",
   "execution_count": 7,
   "metadata": {},
   "outputs": [],
   "source": [
    "# Function to handle button click\n",
    "def on_button_clicked(b):\n",
    "    f = open(\"flag.txt\", \"w\")\n",
    "    f.write(\"1\")\n",
    "    f.close()\n",
    "    f = open(\"flag.txt\", \"r\")\n",
    "    print(f.read())\n",
    "    f.close()"
   ]
  },
  {
   "cell_type": "markdown",
   "metadata": {},
   "source": [
    "8. Lets start the camera capture "
   ]
  },
  {
   "cell_type": "code",
   "execution_count": 8,
   "metadata": {},
   "outputs": [],
   "source": [
    "# Start video capture \n",
    "cam = cv2.VideoCapture(0)"
   ]
  },
  {
   "cell_type": "markdown",
   "metadata": {},
   "source": [
    "9. Lets display the button. \n",
    "  - The button won't work right away because we have not started the streaming function yet. "
   ]
  },
  {
   "cell_type": "code",
   "execution_count": 9,
   "metadata": {},
   "outputs": [
    {
     "data": {
      "application/vnd.jupyter.widget-view+json": {
       "model_id": "1540800008b54ce5805f239b12de3074",
       "version_major": 2,
       "version_minor": 0
      },
      "text/plain": [
       "Button(description='Capture Image!', style=ButtonStyle())"
      ]
     },
     "metadata": {},
     "output_type": "display_data"
    },
    {
     "name": "stdout",
     "output_type": "stream",
     "text": [
      "1\n",
      "Captured 2020_2_13_10_5_3\n"
     ]
    }
   ],
   "source": [
    "# Display the button\n",
    "button = widgets.Button(description=\"Capture Image!\")\n",
    "display(button)\n",
    "\n",
    "# Call on_button_clicked function to print the message\n",
    "button.on_click(on_button_clicked)"
   ]
  },
  {
   "cell_type": "markdown",
   "metadata": {},
   "source": [
    "9. Now let's set aside a space for the loaded image to be displayed"
   ]
  },
  {
   "cell_type": "code",
   "execution_count": 10,
   "metadata": {},
   "outputs": [
    {
     "data": {
      "image/jpeg": "[encoded data removed]",
      "text/plain": [
       "<IPython.core.display.Image object>"
      ]
     },
     "metadata": {},
     "output_type": "display_data"
    }
   ],
   "source": [
    "# Display the image\n",
    "d1 = IPython.display.display(\"Your streaming will be displayed here\", display_id=1)"
   ]
  },
  {
   "cell_type": "markdown",
   "metadata": {},
   "source": [
    "10. Lets capture an image, change the color to RGB and resize it\n",
    "  - Note: Be sure to release the camera after you're done"
   ]
  },
  {
   "cell_type": "code",
   "execution_count": 11,
   "metadata": {},
   "outputs": [],
   "source": [
    "# Create a main loop \n",
    "def main_loop():\n",
    "    # Grab the frame \n",
    "    frame = get_frame(cam)\n",
    "    # Change the color to RGB\n",
    "    frame = cv2.cvtColor(frame, cv2.COLOR_BGR2RGB)\n",
    "    # Resize the image to 200px\n",
    "    frame = imutils.resize(frame, width=200, inter=cv2.INTER_LINEAR)\n",
    "    #Call the function to convert array data to image\n",
    "    frame = array_to_image(frame)\n",
    "    d1.update(frame)\n",
    "    main_loop()\n",
    "\n",
    "# Release the camera resource\n",
    "#cam.release()"
   ]
  },
  {
   "cell_type": "markdown",
   "metadata": {},
   "source": [
    "11. Lets start the main loop and the timer call back.\n",
    "  - Scroll up to see the live feed from camera\n",
    "  - Click on the button to capture an image \n",
    "  - The picture will be stored in Desktop/me35Notebook/images folder "
   ]
  },
  {
   "cell_type": "code",
   "execution_count": 12,
   "metadata": {},
   "outputs": [],
   "source": [
    "# Add this to avoid \"Maximum recursion depth error\"\n",
    "import sys\n",
    "sys.setrecursionlimit(100000)\n",
    "# Start the main loop using a thread \n",
    "p=threading.Thread(target=main_loop)\n",
    "p.start()\n",
    "# Start the timer callback \n",
    "callFunction()"
   ]
  },
  {
   "cell_type": "markdown",
   "metadata": {},
   "source": [
    "12. Note: Don't run this right away. Scroll above to see the live stream and the button. \n",
    "  - Be sure to release the camera resource and stop the main_loop thread"
   ]
  },
  {
   "cell_type": "code",
   "execution_count": 13,
   "metadata": {},
   "outputs": [
    {
     "name": "stderr",
     "output_type": "stream",
     "text": [
      "Exception in thread Thread-4:\n",
      "Traceback (most recent call last):\n",
      "  File \"/usr/lib/python3.7/threading.py\", line 917, in _bootstrap_inner\n",
      "    self.run()\n",
      "  File \"/usr/lib/python3.7/threading.py\", line 865, in run\n",
      "    self._target(*self._args, **self._kwargs)\n",
      "  File \"<ipython-input-11-6a2c39405646>\", line 12, in main_loop\n",
      "    main_loop()\n",
      "  File \"<ipython-input-11-6a2c39405646>\", line 12, in main_loop\n",
      "    main_loop()\n",
      "  File \"<ipython-input-11-6a2c39405646>\", line 12, in main_loop\n",
      "    main_loop()\n",
      "  [Previous line repeated 275 more times]\n",
      "  File \"<ipython-input-11-6a2c39405646>\", line 6, in main_loop\n",
      "    frame = cv2.cvtColor(frame, cv2.COLOR_BGR2RGB)\n",
      "cv2.error: OpenCV(4.1.1) /home/pi/opencv/modules/imgproc/src/color.cpp:182: error: (-215:Assertion failed) !_src.empty() in function 'cvtColor'\n",
      "\n",
      "\n"
     ]
    }
   ],
   "source": [
    "# Release the camera resource\n",
    "cam.release()\n",
    "p.join()"
   ]
  },
  {
   "cell_type": "markdown",
   "metadata": {},
   "source": [
    "13. Yay! You've made it to the end of this tutorial. \n",
    "  - Please click on Kernel>Restart and Clear Output and Click on \"Restart and Clear All Outputs\" so that the next person going throught the tutorial can start fresh. Thanks."
   ]
  }
 ],
 "metadata": {
  "kernelspec": {
   "display_name": "Python 3",
   "language": "python",
   "name": "python3"
  },
  "language_info": {
   "codemirror_mode": {
    "name": "ipython",
    "version": 3
   },
   "file_extension": ".py",
   "mimetype": "text/x-python",
   "name": "python",
   "nbconvert_exporter": "python",
   "pygments_lexer": "ipython3",
   "version": "3.7.3"
  }
 },
 "nbformat": 4,
 "nbformat_minor": 4
}
