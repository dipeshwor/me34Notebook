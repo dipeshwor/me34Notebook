{
 "cells": [
  {
   "cell_type": "markdown",
   "metadata": {},
   "source": [
    "### Lets learn to take pictures by clicking a button on Jupyter Notebook\n",
    "1. We start by importing the necessary Python libraries. \n",
    "  - To import the libraries, click on the cell below (You can tell if the cell is slected if you see a Green outline surrounding the cell), and \n",
    "  - Hit Shift + Enter on your keyboard or Click on the Run button from the Dashboard above \n"
   ]
  },
  {
   "cell_type": "code",
   "execution_count": 11,
   "metadata": {},
   "outputs": [],
   "source": [
    "# Import necessary Python libraries \n",
    "# OpenCV library\n",
    "import cv2\n",
    "# Python Imaging Library useed to load images from files, and to create new images\n",
    "import PIL.Image\n",
    "# BytesIO implements read and write bytes data in memory\n",
    "from io import BytesIO\n",
    "# Library to display stuff and clear stuff on Jupyer Notebook \n",
    "import IPython.display\n",
    "from IPython.display import clear_output\n",
    "# Library that makes calls to openCV a bit more convinient \n",
    "import imutils\n",
    "# Useful library for array manipulation \n",
    "import numpy as np\n",
    "# Time library for delay \n",
    "import time\n",
    "# Library to integrate buttons and user inputs\n",
    "from ipywidgets import widgets\n",
    "# Import library for threading \n",
    "import datetime, threading\n",
    "# OS library\n",
    "import os\n",
    "# import library for path\n",
    "from imutils import paths\n",
    "# import face recognition library\n",
    "import face_recognition\n",
    "# Pickle is used for serializing and de-serializing Python object structures\n",
    "import pickle"
   ]
  },
  {
   "cell_type": "markdown",
   "metadata": {},
   "source": [
    "2. Lets declare the necessary variables and set flag to 0"
   ]
  },
  {
   "cell_type": "code",
   "execution_count": 12,
   "metadata": {},
   "outputs": [],
   "source": [
    "# Declare variables\n",
    "next_call = time.time()\n",
    "name='Default'\n",
    "\n",
    "# Set flag to 0\n",
    "f = open(\"flag.txt\", \"w\")\n",
    "f.write(\"0\")\n",
    "f.close()"
   ]
  },
  {
   "cell_type": "markdown",
   "metadata": {},
   "source": [
    "3. Lets define some functions  "
   ]
  },
  {
   "cell_type": "code",
   "execution_count": 13,
   "metadata": {},
   "outputs": [],
   "source": [
    "#Function that converts array data to image\n",
    "def array_to_image(a, fmt='jpeg'):\n",
    "    # Create binary stream object\n",
    "    f = BytesIO()\n",
    "    # Convert array to binary stream object\n",
    "    PIL.Image.fromarray(a).save(f, fmt)\n",
    "    return IPython.display.Image(data=f.getvalue())\n",
    "\n",
    "# Function to read the frame form camera\n",
    "def get_frame(cam):\n",
    "    # Capture frame-by-frame\n",
    "    ret, frame = cam.read()\n",
    "    #flip image for natural viewing\n",
    "    #frame = cv2.flip(frame, 1)\n",
    "    # Rotate frame\n",
    "    angle=180\n",
    "    frame = imutils.rotate(frame, angle)\n",
    "    return frame\n",
    "\n",
    "# Function to print the user input \n",
    "def handle_submit(sender):\n",
    "    global name\n",
    "    name=userInput.value\n",
    "    print(\"Hello \" + userInput.value + \".\")\n",
    "    \n",
    "# Timer callback to check if the flag is high or not \n",
    "def callFunction():\n",
    "    global next_call, directoryName, name\n",
    "    #print(datetime.datetime.now())\n",
    "    next_call = next_call + 1\n",
    "    # Open the file to see if the flag is set high \n",
    "    f = open(\"flag.txt\", \"r\")\n",
    "    flag=f.read()\n",
    "    f.close()\n",
    "    # Save the file to disk, if the flag is high\n",
    "    # open and set the flag to 0 again:\n",
    "    if flag=='1':\n",
    "        frame = get_frame(cam)\n",
    "        # Save the file according to time stamp\n",
    "        rightNow=datetime.datetime.now()\n",
    "        filename=str(rightNow.year)+\"_\"+str(rightNow.month)+\"_\"+str(rightNow.day)+\"_\"+str(rightNow.hour)+\"_\"+str(rightNow.minute)+\"_\"+str(rightNow.second)\n",
    "        cv2.imwrite(directoryName+\"/\"+name+\"_\"+filename+\".png\", frame)\n",
    "        print(\"Captured \"+ filename)\n",
    "        # Make a copy of the file so that users can access the latest captured image\n",
    "        cv2.imwrite(\"/home/pi/Desktop/me35Notebook/images/image.png\", frame)\n",
    "        flag=0\n",
    "        f = open(\"flag.txt\", \"w\")\n",
    "        f.write(\"0\")\n",
    "        f.close()\n",
    "    f = open(\"flag.txt\", \"r\")\n",
    "    #print(f.read())\n",
    "    f.close()\n",
    "        \n",
    "    threading.Timer(next_call-time.time(), callFunction).start()\n",
    "\n",
    "# Function to handle button click\n",
    "def on_button_clicked(b):\n",
    "    f = open(\"flag.txt\", \"w\")\n",
    "    f.write(\"1\")\n",
    "    f.close()\n",
    "    f = open(\"flag.txt\", \"r\")\n",
    "    print(f.read())\n",
    "    f.close()\n",
    "\n",
    "def trainModel():\n",
    "    # Grab the paths to the input images in our dataset\n",
    "    # Save your pictures in the dataset folder \n",
    "    imagePaths = list(paths.list_images(\"/home/pi/Desktop/me35Notebook/opencv/faceDetection/dataset\"))\n",
    "    # initialize the list of known encodings and known names\n",
    "    knownEncodings = []\n",
    "    knownNames = []\n",
    "    # loop over the image paths\n",
    "    for (i, imagePath) in enumerate(imagePaths):\n",
    "        # extract the person name from the image path\n",
    "        print(\"[INFO] processing image {}/{}\".format(i + 1,\n",
    "            len(imagePaths)))\n",
    "        name = imagePath.split(os.path.sep)[-2]\n",
    "\n",
    "        # load the input image and convert it from RGB (OpenCV ordering)\n",
    "        # to dlib ordering (RGB)\n",
    "        image = cv2.imread(imagePath)\n",
    "        rgb = cv2.cvtColor(image, cv2.COLOR_BGR2RGB)\n",
    "\n",
    "        # detect the (x, y)-coordinates of the bounding boxes\n",
    "        # corresponding to each face in the input image\n",
    "        boxes = face_recognition.face_locations(rgb,\n",
    "            model=\"hog\")\n",
    "\n",
    "        # compute the facial embedding for the face\n",
    "        encodings = face_recognition.face_encodings(rgb, boxes)\n",
    "\n",
    "        # loop over the encodings\n",
    "        for encoding in encodings:\n",
    "            # add each encoding + name to our set of known names and\n",
    "            # encodings\n",
    "            knownEncodings.append(encoding)\n",
    "            knownNames.append(name)\n",
    "\n",
    "    # dump the facial encodings + names to disk\n",
    "    print(\"[INFO] serializing encodings...\")\n",
    "    data = {\"encodings\": knownEncodings, \"names\": knownNames}\n",
    "    f = open(\"encodings.pickle\", \"wb\")\n",
    "    f.write(pickle.dumps(data))\n",
    "    f.close()\n",
    "    print(\"Complete\")\n",
    "    \n",
    "# Function to handle button click\n",
    "def on_trainButton_clicked(b):\n",
    "    global directoryName\n",
    "    f = open(\"flag.txt\", \"w\")\n",
    "    f.write(\"0\")\n",
    "    f.close()\n",
    "    f = open(\"flag.txt\", \"r\")\n",
    "    #print(f.read())\n",
    "    f.close()\n",
    "    trainModel()\n",
    "\n",
    "# Create a main loop \n",
    "def main_loop():\n",
    "    # Grab the frame \n",
    "    frame = get_frame(cam)\n",
    "    # Change the color to RGB\n",
    "    frame = cv2.cvtColor(frame, cv2.COLOR_BGR2RGB)\n",
    "    # Resize the image to 200px\n",
    "    frame = imutils.resize(frame, width=200, inter=cv2.INTER_LINEAR)\n",
    "    #Call the function to convert array data to image\n",
    "    frame = array_to_image(frame)\n",
    "    d1.update(frame)\n",
    "    main_loop()"
   ]
  },
  {
   "cell_type": "markdown",
   "metadata": {},
   "source": [
    "4. Lets ask for input from the user\n",
    "### Note: Press Enter on your keyboard after typing your name and run the next cell"
   ]
  },
  {
   "cell_type": "code",
   "execution_count": 14,
   "metadata": {},
   "outputs": [
    {
     "name": "stdout",
     "output_type": "stream",
     "text": [
      "Enter your name and press Enter:\n"
     ]
    },
    {
     "data": {
      "application/vnd.jupyter.widget-view+json": {
       "model_id": "f3a8dcd52a954657ba9312f616412e92",
       "version_major": 2,
       "version_minor": 0
      },
      "text/plain": [
       "Text(value='')"
      ]
     },
     "metadata": {},
     "output_type": "display_data"
    },
    {
     "name": "stdout",
     "output_type": "stream",
     "text": [
      "Hello Deepesh.\n"
     ]
    }
   ],
   "source": [
    "# Ask for user input\n",
    "print(\"Enter your name and press Enter:\")\n",
    "userInput = widgets.Text()\n",
    "display(userInput)\n",
    "\n",
    "# Call the submit function when the user presses Enter \n",
    "userInput.on_submit(handle_submit)"
   ]
  },
  {
   "cell_type": "markdown",
   "metadata": {},
   "source": [
    "5. Lets create a directory with that name"
   ]
  },
  {
   "cell_type": "code",
   "execution_count": 15,
   "metadata": {},
   "outputs": [
    {
     "name": "stdout",
     "output_type": "stream",
     "text": [
      "/home/pi/Desktop/me35Notebook/opencv/faceDetection/dataset/Deepesh Created\n"
     ]
    }
   ],
   "source": [
    "# Create a folder with the name if it does not exist\n",
    "try:\n",
    "    directoryName=\"/home/pi/Desktop/me35Notebook/opencv/faceDetection/dataset/\"+name\n",
    "    os.mkdir(directoryName)\n",
    "    print(directoryName+ \" Created\")\n",
    "except:\n",
    "    print(\"Directory already exists\")"
   ]
  },
  {
   "cell_type": "markdown",
   "metadata": {},
   "source": [
    "6. Lets start the camera capture "
   ]
  },
  {
   "cell_type": "code",
   "execution_count": 16,
   "metadata": {},
   "outputs": [],
   "source": [
    "# Start video capture \n",
    "cam = cv2.VideoCapture(0)"
   ]
  },
  {
   "cell_type": "markdown",
   "metadata": {},
   "source": [
    "7. Lets display the button and the space for streaming\n",
    "### Note: The button won't work right away because we have not started the streaming function yet. Keep running the code in the cells (except the last cell)"
   ]
  },
  {
   "cell_type": "code",
   "execution_count": 17,
   "metadata": {
    "scrolled": true
   },
   "outputs": [
    {
     "name": "stdout",
     "output_type": "stream",
     "text": [
      "Be sure to capture 3-5 images of your face\n"
     ]
    },
    {
     "data": {
      "application/vnd.jupyter.widget-view+json": {
       "model_id": "f51e2040a93148f080dd1923e43bc36d",
       "version_major": 2,
       "version_minor": 0
      },
      "text/plain": [
       "Button(description='Capture Image!', style=ButtonStyle())"
      ]
     },
     "metadata": {},
     "output_type": "display_data"
    },
    {
     "data": {
      "image/jpeg": "[encoded data removed]",
      "text/plain": [
       "<IPython.core.display.Image object>"
      ]
     },
     "metadata": {},
     "output_type": "display_data"
    },
    {
     "name": "stdout",
     "output_type": "stream",
     "text": [
      "1\n",
      "Captured 2020_2_27_14_49_35\n"
     ]
    }
   ],
   "source": [
    "# Display the button\n",
    "print(\"Be sure to capture 3-5 images of your face\")\n",
    "button = widgets.Button(description=\"Capture Image!\")\n",
    "display(button)\n",
    "\n",
    "# Call on_button_clicked function to print the message\n",
    "button.on_click(on_button_clicked)\n",
    "\n",
    "# Display the image\n",
    "d1 = IPython.display.display(\"Your streaming will be displayed here\", display_id=1)"
   ]
  },
  {
   "cell_type": "markdown",
   "metadata": {},
   "source": [
    "### 8. Lets display the Train button\n",
    "### Note: Only click on this button after you have captured 3-5 images by using the 'Capture Image!' button\n",
    "### Keep running the code in the cells (except the last cell) and \n",
    "### Scroll up to this point to watch the streaming."
   ]
  },
  {
   "cell_type": "code",
   "execution_count": 18,
   "metadata": {},
   "outputs": [
    {
     "name": "stdout",
     "output_type": "stream",
     "text": [
      "Note: Only click on this button after you have captured 3-5 images of your face\n"
     ]
    },
    {
     "data": {
      "application/vnd.jupyter.widget-view+json": {
       "model_id": "4017ee14c65b4e0ba4fb979da855a7cb",
       "version_major": 2,
       "version_minor": 0
      },
      "text/plain": [
       "Button(description='Start Training', style=ButtonStyle())"
      ]
     },
     "metadata": {},
     "output_type": "display_data"
    }
   ],
   "source": [
    "# Display the button\n",
    "print(\"Note: Only click on this button after you have captured 3-5 images of your face\")\n",
    "trainButton = widgets.Button(description=\"Start Training\")\n",
    "display(trainButton)\n",
    "\n",
    "# Call on_button_clicked function to print the message\n",
    "trainButton.on_click(on_trainButton_clicked)"
   ]
  },
  {
   "cell_type": "markdown",
   "metadata": {},
   "source": [
    "9. Lets start the main loop and the timer call back.\n",
    "  - Scroll up to see the live feed from camera\n",
    "  - Click on the button to capture an image \n",
    "  - The picture will be stored in Desktop/me35Notebook/images folder "
   ]
  },
  {
   "cell_type": "code",
   "execution_count": 19,
   "metadata": {},
   "outputs": [],
   "source": [
    "# Add this to avoid \"Maximum recursion depth error\"\n",
    "import sys\n",
    "sys.setrecursionlimit(100000)\n",
    "# Start the main loop using a thread \n",
    "p=threading.Thread(target=main_loop)\n",
    "p.start()\n",
    "# Start the timer callback \n",
    "callFunction()"
   ]
  },
  {
   "cell_type": "markdown",
   "metadata": {},
   "source": [
    "### 10. Note: Don't run this right away. Scroll above to see the live stream and the button. \n",
    "  - Be sure to release the camera resource and stop the main_loop thread"
   ]
  },
  {
   "cell_type": "code",
   "execution_count": 20,
   "metadata": {},
   "outputs": [
    {
     "name": "stdout",
     "output_type": "stream",
     "text": [
      "Stream stopped\n"
     ]
    },
    {
     "name": "stderr",
     "output_type": "stream",
     "text": [
      "\n"
     ]
    }
   ],
   "source": [
    "# Note: Only run this if you are done otherwise scroll up to watch the live streaming\n",
    "# Release the camera resource and clear the output\n",
    "cam.release()\n",
    "IPython.display.clear_output()\n",
    "print (\"Stream stopped\")\n",
    "#p.join()"
   ]
  },
  {
   "cell_type": "markdown",
   "metadata": {},
   "source": [
    "11. Yay! You've made it to the end of this tutorial. \n",
    "  - Please click on Kernel>Restart and Clear Output and Click on \"Restart and Clear All Outputs\" so that the next person going throught the tutorial can start fresh. Thanks."
   ]
  },
  {
   "cell_type": "markdown",
   "metadata": {},
   "source": [
    "12. Click [here](faceRecognitionAndStreaming.ipynb) to see the model in action. Will it recognize your face? "
   ]
  },
  {
   "cell_type": "code",
   "execution_count": null,
   "metadata": {},
   "outputs": [],
   "source": []
  }
 ],
 "metadata": {
  "kernelspec": {
   "display_name": "Python 3",
   "language": "python",
   "name": "python3"
  },
  "language_info": {
   "codemirror_mode": {
    "name": "ipython",
    "version": 3
   },
   "file_extension": ".py",
   "mimetype": "text/x-python",
   "name": "python",
   "nbconvert_exporter": "python",
   "pygments_lexer": "ipython3",
   "version": "3.7.3"
  }
 },
 "nbformat": 4,
 "nbformat_minor": 4
}
