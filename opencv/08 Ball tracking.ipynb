{
 "cells": [
  {
   "cell_type": "markdown",
   "metadata": {},
   "source": [
    "[PyImageSearch](https://www.pyimagesearch.com/) has a really good list of OpenCV tutorials. \n",
    "We will be using [this](https://www.pyimagesearch.com/2015/09/14/ball-tracking-with-opencv/) tutorial form that site to figure out ball tracking. "
   ]
  },
  {
   "cell_type": "code",
   "execution_count": null,
   "metadata": {},
   "outputs": [],
   "source": [
    "# Import necessary Python libraries \n",
    "# OpenCV library\n",
    "import cv2\n",
    "# Python Imaging Library useed to load images from files, and to create new images\n",
    "import PIL.Image\n",
    "# BytesIO implements read and write bytes data in memory\n",
    "from io import BytesIO\n",
    "# Library to display stuff and clear stuff on Jupyer Notebook \n",
    "import IPython.display\n",
    "from IPython.display import clear_output\n",
    "# Library that makes calls to openCV a bit more convinient \n",
    "import imutils\n",
    "# Useful library for array manipulation \n",
    "import numpy as np\n",
    "# Time library for delay \n",
    "import time\n",
    "# Library to integrate buttons and user inputs\n",
    "from ipywidgets import widgets\n",
    "# Import library for threading \n",
    "import datetime, threading\n",
    "\n",
    "from collections import deque"
   ]
  },
  {
   "cell_type": "code",
   "execution_count": null,
   "metadata": {},
   "outputs": [],
   "source": [
    "#Function that converts array data to image\n",
    "def array_to_image(a, fmt='jpeg'):\n",
    "    # Create binary stream object\n",
    "    f = BytesIO()\n",
    "    \n",
    "    # Convert array to binary stream object\n",
    "    PIL.Image.fromarray(a).save(f, fmt)\n",
    "    \n",
    "    return IPython.display.Image(data=f.getvalue())"
   ]
  },
  {
   "cell_type": "code",
   "execution_count": null,
   "metadata": {},
   "outputs": [],
   "source": [
    "# Function to read the frame form camera\n",
    "def get_frame(cam):\n",
    "    # Capture frame-by-frame\n",
    "    ret, frame = cam.read()\n",
    "    #flip image for natural viewing\n",
    "    #frame = cv2.flip(frame, 1)\n",
    "\n",
    "    return frame"
   ]
  },
  {
   "cell_type": "code",
   "execution_count": null,
   "metadata": {},
   "outputs": [],
   "source": [
    "# Display the image\n",
    "d1 = IPython.display.display(\"Your streaming will be displayed here\", display_id=1)"
   ]
  },
  {
   "cell_type": "code",
   "execution_count": null,
   "metadata": {},
   "outputs": [],
   "source": [
    "# define the lower and upper boundaries of the \"green\"\n",
    "# ball in the HSV color space, then initialize the\n",
    "# list of tracked points\n",
    "# HSV (0-180,0-255,0-255)\n",
    "greenLower = (49, 0, 0)\n",
    "greenUpper = (98, 204, 255)\n",
    "#redLower = (7, 0, 0)\n",
    "#redUpper = (98, 255, 255)\n",
    "\n",
    "buffer = 5\n",
    "pts = deque(maxlen=buffer)"
   ]
  },
  {
   "cell_type": "code",
   "execution_count": null,
   "metadata": {},
   "outputs": [],
   "source": [
    "# Start video capture \n",
    "cam = cv2.VideoCapture(0)"
   ]
  },
  {
   "cell_type": "code",
   "execution_count": null,
   "metadata": {},
   "outputs": [],
   "source": [
    "# keep looping\n",
    "for i in range(200):\n",
    "    # Grab the frame \n",
    "    img = get_frame(cam)\n",
    "    \n",
    "    # Change the color to RGB\n",
    "    img = cv2.cvtColor(img, cv2.COLOR_BGR2RGB)\n",
    "    # Resize the image to 200px\n",
    "    img = imutils.resize(img, width=200, inter=cv2.INTER_LINEAR)\n",
    "    \n",
    "    # resize the frame, blur it, and convert it to the HSV\n",
    "    # color space\n",
    "    #img = imutils.resize(img, width=200, inter=cv2.INTER_LINEAR)\n",
    "    blurred = cv2.GaussianBlur(img, (11, 11), 0)\n",
    "    hsv = cv2.cvtColor(blurred, cv2.COLOR_BGR2HSV)\n",
    "    # construct a mask for the color \"green\", then perform\n",
    "    # a series of dilations and erosions to remove any small\n",
    "    # blobs left in the mask\n",
    "    mask = cv2.inRange(hsv, greenLower, greenUpper)\n",
    "    #mask = cv2.inRange(hsv, redLower, redUpper)\n",
    "    mask = cv2.erode(mask, None, iterations=2)\n",
    "    mask = cv2.dilate(mask, None, iterations=2)\n",
    "\n",
    "    # find contours in the mask and initialize the current\n",
    "    # (x, y) center of the ball\n",
    "    cnts = cv2.findContours(mask.copy(), cv2.RETR_EXTERNAL,\n",
    "        cv2.CHAIN_APPROX_SIMPLE)\n",
    "    cnts = imutils.grab_contours(cnts)\n",
    "    center = None\n",
    "    # only proceed if at least one contour was found\n",
    "    if len(cnts) > 0:\n",
    "        # find the largest contour in the mask, then use\n",
    "        # it to compute the minimum enclosing circle and\n",
    "        # centroid\n",
    "        c = max(cnts, key=cv2.contourArea)\n",
    "        ((x, y), radius) = cv2.minEnclosingCircle(c)\n",
    "        M = cv2.moments(c)\n",
    "        center = (int(M[\"m10\"] / M[\"m00\"]), int(M[\"m01\"] / M[\"m00\"]))\n",
    "        # only proceed if the radius meets a minimum size\n",
    "        if radius > 10:\n",
    "            # draw the circle and centroid on the frame,\n",
    "            # then update the list of tracked points\n",
    "            cv2.circle(img, (int(x), int(y)), int(radius),\n",
    "                (0, 255, 255), 2)\n",
    "            cv2.circle(img, center, 5, (0, 0, 255), -1)\n",
    "    # update the points queue\n",
    "    pts.appendleft(center)\n",
    "    \n",
    "    # loop over the set of tracked points\n",
    "    for i in range(1, len(pts)):\n",
    "        # if either of the tracked points are None, ignore\n",
    "        # them\n",
    "        if pts[i - 1] is None or pts[i] is None:\n",
    "            continue\n",
    "        # otherwise, compute the thickness of the line and\n",
    "        # draw the connecting lines\n",
    "        thickness = int(np.sqrt(buffer / float(i + 1)) * 2.5)\n",
    "        cv2.line(img, pts[i - 1], pts[i], (0, 0, 255), thickness)\n",
    "    # show the frame to our screen\n",
    "    #Call the function to convert array data to image\n",
    "    frame = array_to_image(img)\n",
    "    d1.update(frame)\n",
    "    \n",
    "# Release the camera\n",
    "cam.release()\n"
   ]
  },
  {
   "cell_type": "code",
   "execution_count": null,
   "metadata": {},
   "outputs": [],
   "source": [
    "# Release the camera\n",
    "cam.release()"
   ]
  },
  {
   "cell_type": "code",
   "execution_count": null,
   "metadata": {},
   "outputs": [],
   "source": []
  }
 ],
 "metadata": {
  "kernelspec": {
   "display_name": "Python 3",
   "language": "python",
   "name": "python3"
  },
  "language_info": {
   "codemirror_mode": {
    "name": "ipython",
    "version": 3
   },
   "file_extension": ".py",
   "mimetype": "text/x-python",
   "name": "python",
   "nbconvert_exporter": "python",
   "pygments_lexer": "ipython3",
   "version": "3.7.3"
  }
 },
 "nbformat": 4,
 "nbformat_minor": 4
}
