{
 "cells": [
  {
   "cell_type": "markdown",
   "metadata": {},
   "source": [
    "### Let's learn the basics of OpenCV and Jupyter Notebook\n",
    "1. We start by importing the necessary Python libraries. \n",
    "  - To import the cv2 library, click on the cell below (You can tell if the cell is slected if you see a Green outline surrounding the cell), and \n",
    "  - Hit Shift + Enter on your keyboard or Click on the Run button from the Dashboard above \n"
   ]
  },
  {
   "cell_type": "code",
   "execution_count": null,
   "metadata": {},
   "outputs": [],
   "source": [
    "# Import necessary packages\n",
    "import cv2"
   ]
  },
  {
   "cell_type": "markdown",
   "metadata": {},
   "source": [
    "2. Congratulations! You have successfully imported the OpenCV python library\n",
    "  - Notice the nuber inside the square brackets? Eg. In [1]. \n",
    "  - Select the above cell once again and Hit Shift + Enter on your keyboard and see what happens\n",
    "  - The number increases Eg. In [2]. The number indicate the order of execution of the codes in the cell and In indicate Input\n",
    "  - The [*] indicates that the code is still running"
   ]
  },
  {
   "cell_type": "markdown",
   "metadata": {},
   "source": [
    "3. Lets import some other libraries that we need to display images in Jupyter Notebook.\n",
    "  - Click on the cell below and Press Shift+Enter"
   ]
  },
  {
   "cell_type": "code",
   "execution_count": null,
   "metadata": {},
   "outputs": [],
   "source": [
    "# Import necessary Python libraries \n",
    "# Python Imaging Library useed to load images from files, and to create new images\n",
    "import PIL.Image\n",
    "# BytesIO implements read and write bytes data in memory\n",
    "from io import BytesIO\n",
    "# Library to display stuff on Jupyer Notebook \n",
    "import IPython.display\n",
    "# Library that makes calls to openCV a bit more convinient \n",
    "import imutils"
   ]
  },
  {
   "cell_type": "markdown",
   "metadata": {},
   "source": [
    "4. Lets learn to open an image. \n",
    "  - Since we are using OpenCV on a Jupyter Notebook, we need to go through some extra steps "
   ]
  },
  {
   "cell_type": "markdown",
   "metadata": {},
   "source": [
    "5. Lets create a function that converts array data to image "
   ]
  },
  {
   "cell_type": "code",
   "execution_count": null,
   "metadata": {},
   "outputs": [],
   "source": [
    "#Function that converts array data to image\n",
    "def array_to_image(a, fmt='jpeg'):\n",
    "    #Create binary stream object\n",
    "    f = BytesIO()\n",
    "    \n",
    "    #Convert array to binary stream object\n",
    "    PIL.Image.fromarray(a).save(f, fmt)\n",
    "    \n",
    "    return IPython.display.Image(data=f.getvalue())"
   ]
  },
  {
   "cell_type": "markdown",
   "metadata": {},
   "source": [
    "6. Now let's set aside a space for the loaded image to be displayed"
   ]
  },
  {
   "cell_type": "code",
   "execution_count": null,
   "metadata": {},
   "outputs": [],
   "source": [
    "# Display the image\n",
    "# Scroll down if the image is large\n",
    "d1 = IPython.display.display(\"Your image will be displayed here\", display_id=1)"
   ]
  },
  {
   "cell_type": "markdown",
   "metadata": {},
   "source": [
    "7. You'll notice 'Your image will be displayed here' printed right below the cell when you run the code. It is a place holder for the image that we will display using the code in the next cell.\n",
    "  - Lets use cv2.imread to open a file which opens the image and converts it to an array \n",
    "  - Since, the image has been converted to an array, we need to convert it back to an image using the array_to_image() function we wrote above "
   ]
  },
  {
   "cell_type": "code",
   "execution_count": null,
   "metadata": {
    "scrolled": true
   },
   "outputs": [],
   "source": [
    "#Read image from disk (reads as array)\n",
    "image=cv2.imread(\"/home/pi/Desktop/me35Notebook/images/chrisNew.png\")\n",
    "#Call the function to convert array data to image\n",
    "image = array_to_image(image)\n",
    "d1.update(image)"
   ]
  },
  {
   "cell_type": "markdown",
   "metadata": {},
   "source": [
    "8. But the color on Chris' Tufts tshirt look weird, doesn't it? Tufts color is blue. Let's try to fix it. \n",
    "  - cv2.imread saves the image as BGR and not RGB, so the colors look different. \n",
    "  - We need to convert the image to RGB again before displaying the image"
   ]
  },
  {
   "cell_type": "code",
   "execution_count": null,
   "metadata": {
    "scrolled": true
   },
   "outputs": [],
   "source": [
    "# Read image from disk (reads as array)\n",
    "image=cv2.imread(\"/home/pi/Desktop/me35Notebook/images/chrisNew.png\")\n",
    "# Convert the image from BGR to RGB\n",
    "image=cv2.cvtColor(image, cv2.COLOR_BGR2RGB)\n",
    "# Call the function to convert array data to image\n",
    "image = array_to_image(image)\n",
    "\n",
    "d1.update(image)"
   ]
  },
  {
   "cell_type": "markdown",
   "metadata": {},
   "source": [
    "9. Now, that looks better. But the image is too large. Let's try to make it small. "
   ]
  },
  {
   "cell_type": "code",
   "execution_count": null,
   "metadata": {},
   "outputs": [],
   "source": [
    "# Read image from disk (reads as array)\n",
    "image=cv2.imread(\"/home/pi/Desktop/me35Notebook/images/chrisNew.png\")\n",
    "# Convert the image from BGR to RGB\n",
    "image=cv2.cvtColor(image, cv2.COLOR_BGR2RGB)\n",
    "# Resize the image using imutils    \n",
    "image = imutils.resize(image, width=400, inter=cv2.INTER_LINEAR)\n",
    "# Call the function to convert array data to image\n",
    "image = array_to_image(image)\n",
    "\n",
    "d1.update(image)"
   ]
  },
  {
   "cell_type": "markdown",
   "metadata": {},
   "source": [
    "10. It worked! But you need to scroll all the way up to see the image. \n",
    "  - Instead, you can create a new display place holder with a new id"
   ]
  },
  {
   "cell_type": "code",
   "execution_count": null,
   "metadata": {},
   "outputs": [],
   "source": [
    "# Display the image\n",
    "d2 = IPython.display.display(\"Your image will be displayed here\", display_id=2)"
   ]
  },
  {
   "cell_type": "markdown",
   "metadata": {},
   "source": [
    "11. Let's update the image"
   ]
  },
  {
   "cell_type": "code",
   "execution_count": null,
   "metadata": {},
   "outputs": [],
   "source": [
    "d2.update(image)"
   ]
  },
  {
   "cell_type": "markdown",
   "metadata": {},
   "source": [
    "12. Yay! You've made it to the end of this tutorial. \n",
    "  - Please click on Kernel>Restart and Clear Output and Click on \"Restart and Clear All Outputs\" so that the next person going throught the tutorial can start fresh. Thanks. "
   ]
  },
  {
   "cell_type": "code",
   "execution_count": null,
   "metadata": {},
   "outputs": [],
   "source": []
  }
 ],
 "metadata": {
  "kernelspec": {
   "display_name": "Python 3",
   "language": "python",
   "name": "python3"
  },
  "language_info": {
   "codemirror_mode": {
    "name": "ipython",
    "version": 3
   },
   "file_extension": ".py",
   "mimetype": "text/x-python",
   "name": "python",
   "nbconvert_exporter": "python",
   "pygments_lexer": "ipython3",
   "version": "3.7.3"
  }
 },
 "nbformat": 4,
 "nbformat_minor": 4
}
