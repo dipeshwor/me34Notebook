{
 "cells": [
  {
   "cell_type": "markdown",
   "metadata": {},
   "source": [
    "### Open and display image "
   ]
  },
  {
   "cell_type": "code",
   "execution_count": 34,
   "metadata": {},
   "outputs": [],
   "source": [
    "#Import the required libraries \n",
    "import cv2\n",
    "import PIL.Image\n",
    "from io import BytesIO\n",
    "import IPython.display\n",
    "import numpy as np"
   ]
  },
  {
   "cell_type": "code",
   "execution_count": 35,
   "metadata": {},
   "outputs": [],
   "source": [
    "#Function that converts array data to image\n",
    "#Use 'jpeg' instead of 'png' (~5 times faster)\n",
    "def array_to_image(a, fmt='jpeg'):\n",
    "    #Create binary stream object\n",
    "    f = BytesIO()\n",
    "    \n",
    "    #Convert array to binary stream object\n",
    "    PIL.Image.fromarray(a).save(f, fmt)\n",
    "    \n",
    "    return IPython.display.Image(data=f.getvalue())"
   ]
  },
  {
   "cell_type": "code",
   "execution_count": 52,
   "metadata": {},
   "outputs": [
    {
     "data": {
      "text/plain": [
       "''"
      ]
     },
     "metadata": {},
     "output_type": "display_data"
    },
    {
     "data": {
      "text/plain": [
       "''"
      ]
     },
     "metadata": {},
     "output_type": "display_data"
    },
    {
     "data": {
      "image/jpeg": "[encoded data removed]",
      "text/plain": [
       "<IPython.core.display.Image object>"
      ]
     },
     "metadata": {},
     "output_type": "display_data"
    },
    {
     "data": {
      "image/jpeg": "[encoded data removed]",
      "text/plain": [
       "<IPython.core.display.Image object>"
      ]
     },
     "metadata": {},
     "output_type": "display_data"
    }
   ],
   "source": [
    "#Display the image\n",
    "d = IPython.display.display(\"\", display_id=1)\n",
    "d2 = IPython.display.display(\"\", display_id=2)\n",
    "d3 = IPython.display.display(\"\", display_id=3)\n",
    "d4 = IPython.display.display(\"\", display_id=4)"
   ]
  },
  {
   "cell_type": "code",
   "execution_count": 37,
   "metadata": {},
   "outputs": [
    {
     "name": "stdout",
     "output_type": "stream",
     "text": [
      "[0]\n"
     ]
    }
   ],
   "source": [
    "# Create a black background\n",
    "# np.zeros([height, width, channel], type)\n",
    "black = np.zeros([150,200,1],'uint8')\n",
    "# Look at the first pixel 0,0 and : indicates all the pixels at that location\n",
    "print(black[0,0,:])"
   ]
  },
  {
   "cell_type": "code",
   "execution_count": 38,
   "metadata": {},
   "outputs": [],
   "source": [
    "# Save the image \n",
    "cv2.imwrite(\"black.png\", black)\n",
    "#Read image from disk (reads as array)\n",
    "image=cv2.imread(\"black.png\")\n",
    "#Call the function to convert array data to image\n",
    "image = array_to_image(image)\n",
    "d.update(image)"
   ]
  },
  {
   "cell_type": "code",
   "execution_count": 44,
   "metadata": {},
   "outputs": [
    {
     "name": "stdout",
     "output_type": "stream",
     "text": [
      "[255 255 255]\n"
     ]
    }
   ],
   "source": [
    "# Create a white background\n",
    "# np.ones([height, width, channel], type)\n",
    "ones = np.ones([150,200,3],'uint8')\n",
    "white = ones\n",
    "white *= (2**8-1)\n",
    "# Look at the first pixel 0,0 and : indicates all the pixels at that location\n",
    "print(white[0,0,:])"
   ]
  },
  {
   "cell_type": "code",
   "execution_count": 40,
   "metadata": {},
   "outputs": [],
   "source": [
    "# Save the image \n",
    "cv2.imwrite(\"white.png\", white)\n",
    "#Read image from disk (reads as array)\n",
    "image=cv2.imread(\"white.png\")\n",
    "#Call the function to convert array data to image\n",
    "image = array_to_image(image)\n",
    "d2.update(image)"
   ]
  },
  {
   "cell_type": "code",
   "execution_count": 49,
   "metadata": {},
   "outputs": [],
   "source": [
    "# Create a blue background\n",
    "# Copy the ones \n",
    "blue = ones.copy()\n",
    "# color[all pixels, in both directions] = (R,G,B)\n",
    "# Make only the blue pixels 255\n",
    "blue[:,:] = (0, 0, 255)\n",
    "# Look at the first pixel 0,0 and : indicates all the pixels at that location\n",
    "#print(blue[0,0,:])"
   ]
  },
  {
   "cell_type": "code",
   "execution_count": 55,
   "metadata": {},
   "outputs": [],
   "source": [
    "# Save the image \n",
    "cv2.imwrite(\"blue.png\", blue)\n",
    "#Read image from disk (reads as array)\n",
    "image=cv2.imread(\"blue.png\")\n",
    "#Call the function to convert array data to image\n",
    "image = array_to_image(image)\n",
    "d3.update(image)"
   ]
  },
  {
   "cell_type": "code",
   "execution_count": 51,
   "metadata": {},
   "outputs": [],
   "source": [
    "# Create a red background\n",
    "# Copy the ones \n",
    "red = ones.copy()\n",
    "# color[all pixels, in both directions] = (R,G,B)\n",
    "# Make only the blue pixels 255\n",
    "red[:,:] = (255, 0, 0)\n",
    "# Look at the first pixel 0,0 and : indicates all the pixels at that location\n",
    "#print(blue[0,0,:])"
   ]
  },
  {
   "cell_type": "code",
   "execution_count": 54,
   "metadata": {},
   "outputs": [],
   "source": [
    "# Save the image \n",
    "cv2.imwrite(\"red.png\", red)\n",
    "#Read image from disk (reads as array)\n",
    "image=cv2.imread(\"red.png\")\n",
    "#Call the function to convert array data to image\n",
    "image = array_to_image(image)\n",
    "d4.update(image)"
   ]
  },
  {
   "cell_type": "code",
   "execution_count": null,
   "metadata": {},
   "outputs": [],
   "source": []
  }
 ],
 "metadata": {
  "kernelspec": {
   "display_name": "Python 3",
   "language": "python",
   "name": "python3"
  },
  "language_info": {
   "codemirror_mode": {
    "name": "ipython",
    "version": 3
   },
   "file_extension": ".py",
   "mimetype": "text/x-python",
   "name": "python",
   "nbconvert_exporter": "python",
   "pygments_lexer": "ipython3",
   "version": "3.7.3"
  }
 },
 "nbformat": 4,
 "nbformat_minor": 2
}
