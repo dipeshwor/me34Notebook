{
 "cells": [
  {
   "cell_type": "markdown",
   "metadata": {},
   "source": [
    "### Let's learn to take pictures using OpenCV\n",
    "1. We start by importing the necessary Python libraries. \n",
    "  - To import the libraries, click on the cell below (You can tell if the cell is slected if you see a Green outline surrounding the cell), and \n",
    "  - Hit Shift + Enter on your keyboard or Click on the Run button from the Dashboard above \n"
   ]
  },
  {
   "cell_type": "code",
   "execution_count": null,
   "metadata": {},
   "outputs": [],
   "source": [
    "# Import necessary Python libraries \n",
    "# OpenCV library\n",
    "import cv2\n",
    "# Python Imaging Library useed to load images from files, and to create new images\n",
    "import PIL.Image\n",
    "# BytesIO implements read and write bytes data in memory\n",
    "from io import BytesIO\n",
    "# Library to display stuff and clear stuff on Jupyer Notebook \n",
    "import IPython.display\n",
    "from IPython.display import clear_output\n",
    "# Library that makes calls to openCV a bit more convinient \n",
    "import imutils\n",
    "# Useful library for array manipulation \n",
    "import numpy as np\n",
    "# Time library for delay \n",
    "import time"
   ]
  },
  {
   "cell_type": "markdown",
   "metadata": {},
   "source": [
    "2. Congratulations! You have successfully imported the necessary Python libraries\n",
    "  - Notice the nuber inside the square brackets? Eg. In [1]. \n",
    "  - Select the above cell once again and Hit Shift + Enter on your keyboard and see what happens\n",
    "  - The number increases Eg. In [2]. The number indicate the order of execution of the codes in the cell and In indicate Input\n",
    "  - The [*] indicates that the code is still running"
   ]
  },
  {
   "cell_type": "markdown",
   "metadata": {},
   "source": [
    "3. Lets create a function that converts array data to image "
   ]
  },
  {
   "cell_type": "code",
   "execution_count": null,
   "metadata": {},
   "outputs": [],
   "source": [
    "#Function that converts array data to image\n",
    "def array_to_image(a, fmt='jpeg'):\n",
    "    #Create binary stream object\n",
    "    f = BytesIO()\n",
    "    \n",
    "    #Convert array to binary stream object\n",
    "    PIL.Image.fromarray(a).save(f, fmt)\n",
    "    \n",
    "    return IPython.display.Image(data=f.getvalue())"
   ]
  },
  {
   "cell_type": "markdown",
   "metadata": {},
   "source": [
    "4. Lets create a function to read the frame from camera\n",
    "  - We can use the cv2.flip() function to change the orientation of the image feed"
   ]
  },
  {
   "cell_type": "code",
   "execution_count": null,
   "metadata": {},
   "outputs": [],
   "source": [
    "# Function to read the frame form camera\n",
    "def get_frame(cam):\n",
    "    # Capture frame-by-frame\n",
    "    ret, frame = cam.read()\n",
    "    #flip image for natural viewing\n",
    "    #frame = cv2.flip(frame, 1)\n",
    "    return frame"
   ]
  },
  {
   "cell_type": "markdown",
   "metadata": {},
   "source": [
    "5. Now let's set aside a space for the loaded image to be displayed"
   ]
  },
  {
   "cell_type": "code",
   "execution_count": null,
   "metadata": {},
   "outputs": [],
   "source": [
    "# Display the image\n",
    "d1 = IPython.display.display(\"Your image will be displayed here\", display_id=1)"
   ]
  },
  {
   "cell_type": "markdown",
   "metadata": {},
   "source": [
    "6. Lets \n",
    "  - Start the camera capture \n",
    "  - Capture an image, change the color to RGB and resize it\n",
    "  - Release the camera resource (Be sure to release the camera after you're done)"
   ]
  },
  {
   "cell_type": "code",
   "execution_count": null,
   "metadata": {
    "scrolled": true
   },
   "outputs": [],
   "source": [
    "# Start video capture \n",
    "cam = cv2.VideoCapture(0)\n",
    "\n",
    "# Grab the frame \n",
    "frame = get_frame(cam)\n",
    "# Change the color to RGB\n",
    "frame = cv2.cvtColor(frame, cv2.COLOR_BGR2RGB)\n",
    "# Resize the image to 200px\n",
    "frame = imutils.resize(frame, width=200, inter=cv2.INTER_LINEAR)\n",
    "\n",
    "# Release the camera resource\n",
    "cam.release()"
   ]
  },
  {
   "cell_type": "markdown",
   "metadata": {},
   "source": [
    "10. Lets display the image. \n",
    "  - You might have to scroll up to see the image"
   ]
  },
  {
   "cell_type": "code",
   "execution_count": null,
   "metadata": {},
   "outputs": [],
   "source": [
    "#Call the function to convert array data to image\n",
    "frame = array_to_image(frame)\n",
    "d1.update(frame)"
   ]
  },
  {
   "cell_type": "markdown",
   "metadata": {},
   "source": [
    "11. Lets create a live video streaming using what we've learned so far. \n",
    "  - Let's create a new section for the video streaming"
   ]
  },
  {
   "cell_type": "code",
   "execution_count": null,
   "metadata": {},
   "outputs": [],
   "source": [
    "# Display the image\n",
    "d2 = IPython.display.display(\"Your streaming will be displayed here\", display_id=2)"
   ]
  },
  {
   "cell_type": "markdown",
   "metadata": {},
   "source": [
    "12. Lets put everything on a loop. After you run the code below, wave at the camera to see if the camera is sending a live video streaming. Since we are using OpenCV on a Raspberry Pi Zero, the streaming will probably be slow."
   ]
  },
  {
   "cell_type": "code",
   "execution_count": null,
   "metadata": {},
   "outputs": [],
   "source": [
    "# Start video capture \n",
    "cam = cv2.VideoCapture(0)\n",
    "# loop \n",
    "for i in range(300):\n",
    "    # Grab the frame \n",
    "    frame = get_frame(cam)\n",
    "    # Change the color to RGB\n",
    "    frame = cv2.cvtColor(frame, cv2.COLOR_BGR2RGB)\n",
    "    # Resize the image to 200px\n",
    "    frame = imutils.resize(frame, width=200, inter=cv2.INTER_LINEAR)\n",
    "    #Call the function to convert array data to image\n",
    "    frame = array_to_image(frame)\n",
    "    d2.update(frame)\n",
    "\n",
    "# Release the camera resource\n",
    "cam.release()"
   ]
  },
  {
   "cell_type": "markdown",
   "metadata": {},
   "source": [
    "13. You can also create a while loop for the streaming. \n",
    "  - Press 'i' twice to interrupt the while loop \n",
    "  - Run cam.release() in the next cell to release the camera resource"
   ]
  },
  {
   "cell_type": "code",
   "execution_count": null,
   "metadata": {},
   "outputs": [],
   "source": [
    "# Start video capture \n",
    "cam = cv2.VideoCapture(0)\n",
    "# loop \n",
    "while True:\n",
    "    # Grab the frame \n",
    "    frame = get_frame(cam)\n",
    "    # Change the color to RGB\n",
    "    frame = cv2.cvtColor(frame, cv2.COLOR_BGR2RGB)\n",
    "    # Resize the image to 200px\n",
    "    frame = imutils.resize(frame, width=200, inter=cv2.INTER_LINEAR)\n",
    "    #Call the function to convert array data to image\n",
    "    frame = array_to_image(frame)\n",
    "    d2.update(frame)"
   ]
  },
  {
   "cell_type": "markdown",
   "metadata": {},
   "source": [
    "14. Note: Be sure to release the camera resource after you interrupt the while loop"
   ]
  },
  {
   "cell_type": "code",
   "execution_count": null,
   "metadata": {},
   "outputs": [],
   "source": [
    "# Release the camera resource\n",
    "cam.release()"
   ]
  },
  {
   "cell_type": "markdown",
   "metadata": {},
   "source": [
    "15. Yay! You've made it to the end of this tutorial. \n",
    "  - Please click on Kernel>Restart and Clear Output and Click on \"Restart and Clear All Outputs\" so that the next person going throught the tutorial can start fresh. Thanks.\n",
    "  - Can you create a program that streams live video, captures a picture when the user clicks on the button, and saves the file so you can access it later"
   ]
  },
  {
   "cell_type": "code",
   "execution_count": null,
   "metadata": {},
   "outputs": [],
   "source": []
  }
 ],
 "metadata": {
  "kernelspec": {
   "display_name": "Python 3",
   "language": "python",
   "name": "python3"
  },
  "language_info": {
   "codemirror_mode": {
    "name": "ipython",
    "version": 3
   },
   "file_extension": ".py",
   "mimetype": "text/x-python",
   "name": "python",
   "nbconvert_exporter": "python",
   "pygments_lexer": "ipython3",
   "version": "3.7.3"
  }
 },
 "nbformat": 4,
 "nbformat_minor": 4
}
