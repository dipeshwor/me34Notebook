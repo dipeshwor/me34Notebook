{
 "cells": [
  {
   "cell_type": "code",
   "execution_count": null,
   "metadata": {},
   "outputs": [],
   "source": [
    "# import the necessary packages\n",
    "import imutils\n",
    "import time\n",
    "import cv2\n",
    "from IPython.display import clear_output\n",
    "import PIL.Image\n",
    "from io import BytesIO\n",
    "import IPython.display\n",
    "import numpy as np\n",
    "from imutils.video import VideoStream"
   ]
  },
  {
   "cell_type": "code",
   "execution_count": null,
   "metadata": {},
   "outputs": [],
   "source": [
    "#Use 'jpeg' instead of 'png' (~5 times faster)\n",
    "def array_to_image(a, fmt='jpeg'):\n",
    "    #Create binary stream object\n",
    "    f = BytesIO()\n",
    "    #Convert array to binary stream object\n",
    "    PIL.Image.fromarray(a).save(f, fmt)\n",
    "    return IPython.display.Image(data=f.getvalue())"
   ]
  },
  {
   "cell_type": "code",
   "execution_count": null,
   "metadata": {},
   "outputs": [],
   "source": [
    "# Start the video stream\n",
    "cam = cv2.VideoCapture(0)"
   ]
  },
  {
   "cell_type": "code",
   "execution_count": null,
   "metadata": {},
   "outputs": [],
   "source": [
    "# Function to load camera frames\n",
    "def get_frame(cam):\n",
    "    # Capture frame-by-frame\n",
    "    ret, frame = cam.read()\n",
    "    #flip image for natural viewing\n",
    "    #frame = cv2.flip(frame, 1)\n",
    "    return frame"
   ]
  },
  {
   "cell_type": "code",
   "execution_count": null,
   "metadata": {
    "scrolled": true
   },
   "outputs": [],
   "source": [
    "d = IPython.display.display(\"\", display_id=1)\n",
    "#d2 = IPython.display.display(\"\", display_id=2)"
   ]
  },
  {
   "cell_type": "code",
   "execution_count": null,
   "metadata": {},
   "outputs": [],
   "source": [
    "# Main loop \n",
    "# Press 'i' twice to interrupt the loop \n",
    "while True:\n",
    "    # Read the video feed\n",
    "    img = get_frame(cam)\n",
    "    # Resize the image for smoother loading\n",
    "    img = imutils.resize(img, width=200, inter=cv2.INTER_LINEAR)\n",
    "    # Convert the image to gray\n",
    "    gray = cv2.cvtColor(img, cv2.COLOR_BGR2GRAY)\n",
    "    # Blur the image slightly \n",
    "    blurred = cv2.GaussianBlur(gray, (11,11), 0)\n",
    "    # Apply edge detection to the image to reveal the outlines of the coins\n",
    "    edged = cv2.Canny(blurred, 30, 150)\n",
    "    # Find contours in the edged image\n",
    "    # cv2.findContours method is destructive to the image you pass in\n",
    "    # Be sure to copy the image before calling cv2.findContours\n",
    "    cnts=cv2.findContours(edged.copy(), cv2.RETR_EXTERNAL, cv2.CHAIN_APPROX_SIMPLE)\n",
    "    cnts=imutils.grab_contours(cnts)\n",
    "    print(\"I counted {} coins in this image\".format(len(cnts)))\n",
    "    # Highlight the coins in the original image by drawing a green circle around them\n",
    "    # Copy the original image\n",
    "    coins = img.copy()\n",
    "    # Draw contours \n",
    "    contours = cv2.drawContours(coins, cnts, -1, (0,255,0), 2)\n",
    "    \n",
    "    image = array_to_image(coins)\n",
    "    d.update(image)\n",
    "    if cv2.waitKey(1) & 0xFF == ord(\"q\"):\n",
    "        break\n"
   ]
  },
  {
   "cell_type": "code",
   "execution_count": null,
   "metadata": {},
   "outputs": [],
   "source": [
    "# Make sure the camera resources are reslease \n",
    "cam.release()\n",
    "IPython.display.clear_output()\n",
    "print (\"Stream stopped\")\n",
    "cv2.destroyAllWindows()"
   ]
  },
  {
   "cell_type": "code",
   "execution_count": null,
   "metadata": {},
   "outputs": [],
   "source": []
  }
 ],
 "metadata": {
  "kernelspec": {
   "display_name": "Python 3",
   "language": "python",
   "name": "python3"
  },
  "language_info": {
   "codemirror_mode": {
    "name": "ipython",
    "version": 3
   },
   "file_extension": ".py",
   "mimetype": "text/x-python",
   "name": "python",
   "nbconvert_exporter": "python",
   "pygments_lexer": "ipython3",
   "version": "3.7.3"
  }
 },
 "nbformat": 4,
 "nbformat_minor": 2
}
