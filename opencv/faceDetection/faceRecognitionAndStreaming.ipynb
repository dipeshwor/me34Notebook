{
 "cells": [
  {
   "cell_type": "code",
   "execution_count": 1,
   "metadata": {},
   "outputs": [],
   "source": [
    "# import the necessary packages\n",
    "import face_recognition\n",
    "import imutils\n",
    "import pickle\n",
    "import time\n",
    "import cv2\n",
    "from IPython.display import clear_output\n",
    "import PIL.Image\n",
    "from io import BytesIO\n",
    "import IPython.display\n",
    "import numpy as np"
   ]
  },
  {
   "cell_type": "code",
   "execution_count": 2,
   "metadata": {},
   "outputs": [],
   "source": [
    "#Use 'jpeg' instead of 'png' (~5 times faster)\n",
    "def array_to_image(a, fmt='jpeg'):\n",
    "    #Create binary stream object\n",
    "    f = BytesIO()\n",
    "    #Convert array to binary stream object\n",
    "    PIL.Image.fromarray(a).save(f, fmt)\n",
    "    return IPython.display.Image(data=f.getvalue())"
   ]
  },
  {
   "cell_type": "code",
   "execution_count": 3,
   "metadata": {},
   "outputs": [],
   "source": [
    "data = pickle.loads(open(\"/home/pi/Desktop/me34Notebook/opencv/faceDetection/encodings.pickle\", \"rb\").read())\n",
    "detector = cv2.CascadeClassifier(\"/home/pi/Desktop/me34Notebook/opencv/faceDetection/haarcascade_frontalface_default.xml\")"
   ]
  },
  {
   "cell_type": "code",
   "execution_count": 4,
   "metadata": {},
   "outputs": [],
   "source": [
    "def get_frame(cam):\n",
    "    # Capture frame-by-frame\n",
    "    ret, frame = cam.read()\n",
    "    #flip image for natural viewing\n",
    "    #frame = cv2.flip(frame, 1)\n",
    "    return frame"
   ]
  },
  {
   "cell_type": "code",
   "execution_count": 5,
   "metadata": {},
   "outputs": [],
   "source": [
    "cam = cv2.VideoCapture(0)"
   ]
  },
  {
   "cell_type": "code",
   "execution_count": 6,
   "metadata": {
    "scrolled": true
   },
   "outputs": [
    {
     "data": {
      "image/jpeg": "[encoded data removed]",
      "text/plain": [
       "<IPython.core.display.Image object>"
      ]
     },
     "metadata": {},
     "output_type": "display_data"
    }
   ],
   "source": [
    "d = IPython.display.display(\"\", display_id=1)\n",
    "#d2 = IPython.display.display(\"\", display_id=2)"
   ]
  },
  {
   "cell_type": "code",
   "execution_count": 7,
   "metadata": {},
   "outputs": [
    {
     "ename": "KeyboardInterrupt",
     "evalue": "",
     "output_type": "error",
     "traceback": [
      "\u001b[0;31m---------------------------------------------------------------------------\u001b[0m",
      "\u001b[0;31mKeyboardInterrupt\u001b[0m                         Traceback (most recent call last)",
      "\u001b[0;32m<ipython-input-7-36c476a06b01>\u001b[0m in \u001b[0;36m<module>\u001b[0;34m\u001b[0m\n\u001b[1;32m     18\u001b[0m \trects = detector.detectMultiScale(gray, scaleFactor=1.1, \n\u001b[1;32m     19\u001b[0m                 \u001b[0mminNeighbors\u001b[0m\u001b[0;34m=\u001b[0m\u001b[0;36m5\u001b[0m\u001b[0;34m,\u001b[0m \u001b[0mminSize\u001b[0m\u001b[0;34m=\u001b[0m\u001b[0;34m(\u001b[0m\u001b[0;36m30\u001b[0m\u001b[0;34m,\u001b[0m \u001b[0;36m30\u001b[0m\u001b[0;34m)\u001b[0m\u001b[0;34m,\u001b[0m\u001b[0;34m\u001b[0m\u001b[0;34m\u001b[0m\u001b[0m\n\u001b[0;32m---> 20\u001b[0;31m \t\tflags=cv2.CASCADE_SCALE_IMAGE)\n\u001b[0m\u001b[1;32m     21\u001b[0m \u001b[0;34m\u001b[0m\u001b[0m\n\u001b[1;32m     22\u001b[0m         \u001b[0;31m# OpenCV returns bounding box coordinates in (x, y, w, h) order\u001b[0m\u001b[0;34m\u001b[0m\u001b[0;34m\u001b[0m\u001b[0;34m\u001b[0m\u001b[0m\n",
      "\u001b[0;31mKeyboardInterrupt\u001b[0m: "
     ]
    }
   ],
   "source": [
    "#Press 'i' two times to interrupt the Kernel \n",
    "#Run the code in the cell below (cam.release) to make sure the Camera is free\n",
    "while True:\n",
    "\tt1 = time.time()\n",
    "\n",
    "\t# grab the frame from the threaded video stream and resize it\n",
    "\t# to 300px (to speedup processing)\n",
    "\tframe = get_frame(cam)\n",
    "\tframe = cv2.cvtColor(frame, cv2.COLOR_BGR2RGB)\n",
    "\t# For Pi Zero use inter=cv2.INTER_LINEAR    \n",
    "\tframe = imutils.resize(frame, width=200, inter=cv2.INTER_LINEAR)\n",
    "\n",
    "\t# convert the input frame from (1) BGR to grayscale (for face\n",
    "\t# detection) and (2) from BGR to RGB (for face recognition)\n",
    "\tgray = cv2.cvtColor(frame, cv2.COLOR_BGR2GRAY)\n",
    "\n",
    "\t# detect faces in the grayscale frame\n",
    "\trects = detector.detectMultiScale(gray, scaleFactor=1.1, \n",
    "\t\tminNeighbors=5, minSize=(30, 30),\n",
    "\t\tflags=cv2.CASCADE_SCALE_IMAGE)\n",
    "\n",
    "\t# OpenCV returns bounding box coordinates in (x, y, w, h) order\n",
    "\t# but we need them in (top, right, bottom, left) order, so we\n",
    "\t# need to do a bit of reordering\n",
    "\tboxes = [(y, x + w, y + h, x) for (x, y, w, h) in rects]\n",
    "\n",
    "\t# compute the facial embeddings for each face bounding box\n",
    "\tencodings = face_recognition.face_encodings(frame, boxes)\n",
    "\tnames = []\n",
    "\n",
    "\t# loop over the facial embeddings\n",
    "\tfor encoding in encodings:\n",
    "\t\t# attempt to match each face in the input image to our known\n",
    "\t\t# encodings\n",
    "\t\tmatches = face_recognition.compare_faces(data[\"encodings\"],\n",
    "\t\t\tencoding)\n",
    "\t\tname = \"Unknown\"\n",
    "\n",
    "\t\t# check to see if we have found a match\n",
    "\t\tif True in matches:\n",
    "\t\t\t# find the indexes of all matched faces then initialize a\n",
    "\t\t\t# dictionary to count the total number of times each face\n",
    "\t\t\t# was matched\n",
    "\t\t\tmatchedIdxs = [i for (i, b) in enumerate(matches) if b]\n",
    "\t\t\tcounts = {}\n",
    "\n",
    "\t\t\t# loop over the matched indexes and maintain a count for\n",
    "\t\t\t# each recognized face face\n",
    "\t\t\tfor i in matchedIdxs:\n",
    "\t\t\t\tname = data[\"names\"][i]\n",
    "\t\t\t\tcounts[name] = counts.get(name, 0) + 1\n",
    "\n",
    "\t\t\t# determine the recognized face with the largest number\n",
    "\t\t\t# of votes (note: in the event of an unlikely tie Python\n",
    "\t\t\t# will select first entry in the dictionary)\n",
    "\t\t\tname = max(counts, key=counts.get)\n",
    "\t\t\n",
    "\t\t# update the list of names\n",
    "\t\tnames.append(name)\n",
    "\n",
    "\t# loop over the recognized faces\n",
    "\tfor ((top, right, bottom, left), name) in zip(boxes, names):\n",
    "\t\t# draw the predicted face name on the image\n",
    "\t\tcv2.rectangle(frame, (left, top), (right, bottom),\n",
    "\t\t\t(0, 255, 0), 2)\n",
    "\t\ty = top - 15 if top - 15 > 15 else top + 15\n",
    "\t\tcv2.putText(frame, name, (left, y), cv2.FONT_HERSHEY_SIMPLEX,\n",
    "\t\t\t0.75, (0, 255, 0), 2)\n",
    "\n",
    "\tim = array_to_image(frame)\n",
    "\td.update(im)\n",
    "\t#t2 = time.time()\n",
    "\t#s = f\"\"\"{int(1/(t2-t1))} FPS\"\"\"\n",
    "\t#d2.update( IPython.display.HTML(s) )\n",
    "\tif cv2.waitKey(1) & 0xFF == ord(\"q\"):\n",
    "\t\tbreak\n"
   ]
  },
  {
   "cell_type": "code",
   "execution_count": 8,
   "metadata": {},
   "outputs": [
    {
     "name": "stdout",
     "output_type": "stream",
     "text": [
      "Stream stopped\n"
     ]
    }
   ],
   "source": [
    "cam.release()\n",
    "IPython.display.clear_output()\n",
    "print (\"Stream stopped\")\n",
    "cv2.destroyAllWindows()\n"
   ]
  },
  {
   "cell_type": "code",
   "execution_count": null,
   "metadata": {},
   "outputs": [],
   "source": []
  }
 ],
 "metadata": {
  "kernelspec": {
   "display_name": "Python 3",
   "language": "python",
   "name": "python3"
  },
  "language_info": {
   "codemirror_mode": {
    "name": "ipython",
    "version": 3
   },
   "file_extension": ".py",
   "mimetype": "text/x-python",
   "name": "python",
   "nbconvert_exporter": "python",
   "pygments_lexer": "ipython3",
   "version": "3.7.3"
  }
 },
 "nbformat": 4,
 "nbformat_minor": 2
}
