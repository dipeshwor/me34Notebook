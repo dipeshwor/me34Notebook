{
 "cells": [
  {
   "cell_type": "code",
   "execution_count": 9,
   "metadata": {},
   "outputs": [],
   "source": [
    "# Import the necessary packages \n",
    "# USAGE\n",
    "# When encoding on laptop, desktop, or GPU (slower, more accurate):\n",
    "# python encode_faces.py --dataset dataset --encodings encodings.pickle --detection-method cnn\n",
    "# When encoding on Raspberry Pi (faster, more accurate):\n",
    "# python encode_faces.py --dataset dataset --encodings encodings.pickle --detection-method hog\n",
    "\n",
    "# import the necessary packages\n",
    "from imutils import paths\n",
    "import face_recognition\n",
    "import pickle\n",
    "import cv2\n",
    "import os\n",
    "import imutils\n",
    "import time\n",
    "from IPython.display import clear_output\n",
    "import PIL.Image\n",
    "from io import BytesIO\n",
    "import IPython.display"
   ]
  },
  {
   "cell_type": "code",
   "execution_count": 10,
   "metadata": {},
   "outputs": [],
   "source": [
    "# Function to display image\n",
    "def array_to_image(a, fmt='jpeg'):\n",
    "    #Create binary stream object\n",
    "    f = BytesIO()\n",
    "    #Convert array to binary stream object\n",
    "    PIL.Image.fromarray(a).save(f, fmt)\n",
    "    return IPython.display.Image(data=f.getvalue())"
   ]
  },
  {
   "cell_type": "code",
   "execution_count": 11,
   "metadata": {},
   "outputs": [],
   "source": [
    "def get_frame(cam):\n",
    "    # Capture frame-by-frame\n",
    "    ret, frame = cam.read()\n",
    "    #flip image for natural viewing\n",
    "    #frame = cv2.flip(frame, 1)\n",
    "    return frame"
   ]
  },
  {
   "cell_type": "code",
   "execution_count": 12,
   "metadata": {},
   "outputs": [],
   "source": [
    "# Get the camera ready\n",
    "cam = cv2.VideoCapture(0)"
   ]
  },
  {
   "cell_type": "code",
   "execution_count": 13,
   "metadata": {},
   "outputs": [
    {
     "data": {
      "image/jpeg": "[encoded data removed]",
      "text/plain": [
       "<IPython.core.display.Image object>"
      ]
     },
     "metadata": {},
     "output_type": "display_data"
    }
   ],
   "source": [
    "# The live feed will be displayed in this cell\n",
    "d = IPython.display.display(\"\", display_id=1)\n",
    "#d2 = IPython.display.display(\"\", display_id=2)"
   ]
  },
  {
   "cell_type": "code",
   "execution_count": 14,
   "metadata": {
    "scrolled": true
   },
   "outputs": [
    {
     "name": "stdout",
     "output_type": "stream",
     "text": [
      "Directory already exists\n"
     ]
    }
   ],
   "source": [
    "# Replace this with your name \n",
    "name=\"dipesh\"\n",
    "# Create a folder with the name if it does not exist\n",
    "try:\n",
    "    directoryName=\"/home/pi/Desktop/me34Notebook/opencv/faceDetection/dataset/\"+name\n",
    "    os.mkdir(directoryName)\n",
    "    print(directoryName+ \" Created\")\n",
    "except:\n",
    "    print(\"Directory already exists\")"
   ]
  },
  {
   "cell_type": "code",
   "execution_count": 18,
   "metadata": {},
   "outputs": [
    {
     "name": "stdout",
     "output_type": "stream",
     "text": [
      "Smile\n",
      "3\n",
      "2\n",
      "1\n",
      "Saved. Get ready for next\n",
      "Smile\n",
      "3\n",
      "2\n",
      "1\n",
      "Saved. Get ready for next\n",
      "Smile\n",
      "3\n",
      "2\n",
      "1\n",
      "Saved. Get ready for next\n",
      "Smile\n",
      "3\n",
      "2\n",
      "1\n",
      "Saved. Get ready for next\n",
      "Smile\n",
      "3\n",
      "2\n",
      "1\n",
      "Saved. Get ready for next\n"
     ]
    }
   ],
   "source": [
    "# Get ready to take pictures \n",
    "count=0\n",
    "for i in range(5):\n",
    "    count+=1\n",
    "    print(\"Smile\")\n",
    "    frame = get_frame(cam)\n",
    "    print(\"3\")\n",
    "    time.sleep(0.5)\n",
    "    print(\"2\")\n",
    "    time.sleep(0.5)\n",
    "    print(\"1\")\n",
    "    time.sleep(0.5)\n",
    "    frame = imutils.resize(frame, width=400, inter=cv2.INTER_LINEAR)\n",
    "    frameDisplay = cv2.cvtColor(frame, cv2.COLOR_BGR2RGB)\n",
    "    image = array_to_image(frameDisplay)\n",
    "    d.update(image)\n",
    "\n",
    "    filename=directoryName+\"/\"+name+str(count)+\".jpg\"\n",
    "    cv2.imwrite(filename,frame)\n",
    "    print(\"Saved. Get ready for next\")\n",
    "    time.sleep(2)\n",
    "    #Read image from disk (reads as array)\n",
    "    image=cv2.imread(filename)\n",
    "    #Note: Scroll up to see the updated image in Ipython.display section"
   ]
  },
  {
   "cell_type": "code",
   "execution_count": 19,
   "metadata": {},
   "outputs": [
    {
     "name": "stdout",
     "output_type": "stream",
     "text": [
      "Stream stopped\n"
     ]
    }
   ],
   "source": [
    "# Release the camera resources\n",
    "cam.release()\n",
    "IPython.display.clear_output()\n",
    "print (\"Stream stopped\")\n",
    "cv2.destroyAllWindows()"
   ]
  },
  {
   "cell_type": "code",
   "execution_count": 20,
   "metadata": {},
   "outputs": [],
   "source": [
    "# Grab the paths to the input images in our dataset\n",
    "# Save your pictures in the dataset folder \n",
    "imagePaths = list(paths.list_images(\"/home/pi/Desktop/PythonBasics/OpenCV/pi-face-recognition/dataset\"))"
   ]
  },
  {
   "cell_type": "code",
   "execution_count": 21,
   "metadata": {},
   "outputs": [],
   "source": [
    "# initialize the list of known encodings and known names\n",
    "knownEncodings = []\n",
    "knownNames = []"
   ]
  },
  {
   "cell_type": "code",
   "execution_count": 22,
   "metadata": {},
   "outputs": [
    {
     "name": "stdout",
     "output_type": "stream",
     "text": [
      "[INFO] processing image 1/14\n",
      "[INFO] processing image 2/14\n",
      "[INFO] processing image 3/14\n",
      "[INFO] processing image 4/14\n",
      "[INFO] processing image 5/14\n",
      "[INFO] processing image 6/14\n",
      "[INFO] processing image 7/14\n",
      "[INFO] processing image 8/14\n",
      "[INFO] processing image 9/14\n",
      "[INFO] processing image 10/14\n",
      "[INFO] processing image 11/14\n",
      "[INFO] processing image 12/14\n",
      "[INFO] processing image 13/14\n",
      "[INFO] processing image 14/14\n",
      "[INFO] serializing encodings...\n",
      "Complete\n"
     ]
    }
   ],
   "source": [
    "# loop over the image paths\n",
    "for (i, imagePath) in enumerate(imagePaths):\n",
    "\t# extract the person name from the image path\n",
    "\tprint(\"[INFO] processing image {}/{}\".format(i + 1,\n",
    "\t\tlen(imagePaths)))\n",
    "\tname = imagePath.split(os.path.sep)[-2]\n",
    "\n",
    "\t# load the input image and convert it from RGB (OpenCV ordering)\n",
    "\t# to dlib ordering (RGB)\n",
    "\timage = cv2.imread(imagePath)\n",
    "\trgb = cv2.cvtColor(image, cv2.COLOR_BGR2RGB)\n",
    "\n",
    "\t# detect the (x, y)-coordinates of the bounding boxes\n",
    "\t# corresponding to each face in the input image\n",
    "\tboxes = face_recognition.face_locations(rgb,\n",
    "\t\tmodel=\"hog\")\n",
    "\n",
    "\t# compute the facial embedding for the face\n",
    "\tencodings = face_recognition.face_encodings(rgb, boxes)\n",
    "\n",
    "\t# loop over the encodings\n",
    "\tfor encoding in encodings:\n",
    "\t\t# add each encoding + name to our set of known names and\n",
    "\t\t# encodings\n",
    "\t\tknownEncodings.append(encoding)\n",
    "\t\tknownNames.append(name)\n",
    "\n",
    "# dump the facial encodings + names to disk\n",
    "print(\"[INFO] serializing encodings...\")\n",
    "data = {\"encodings\": knownEncodings, \"names\": knownNames}\n",
    "f = open(\"encodings.pickle\", \"wb\")\n",
    "f.write(pickle.dumps(data))\n",
    "f.close()\n",
    "print(\"Complete\")"
   ]
  },
  {
   "cell_type": "markdown",
   "metadata": {},
   "source": [
    "### Use faceRecognitionAndStreaming.ipynb to test if the camera recognizes you"
   ]
  },
  {
   "cell_type": "code",
   "execution_count": null,
   "metadata": {},
   "outputs": [],
   "source": []
  }
 ],
 "metadata": {
  "kernelspec": {
   "display_name": "Python 3",
   "language": "python",
   "name": "python3"
  },
  "language_info": {
   "codemirror_mode": {
    "name": "ipython",
    "version": 3
   },
   "file_extension": ".py",
   "mimetype": "text/x-python",
   "name": "python",
   "nbconvert_exporter": "python",
   "pygments_lexer": "ipython3",
   "version": "3.7.3"
  }
 },
 "nbformat": 4,
 "nbformat_minor": 2
}
