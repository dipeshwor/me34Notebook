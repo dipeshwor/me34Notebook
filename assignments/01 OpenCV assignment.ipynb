{
 "cells": [
  {
   "cell_type": "markdown",
   "metadata": {},
   "source": [
    "### You will learn image processing in Jupyter notebooks. \n",
    "1. We start by importing the necessary Python libraries. \n",
    "  - To import the libraries, click on the cell below (You can tell if the cell is slected if you see a Green outline surrounding the cell), and \n",
    "  - Hit Shift + Enter on your keyboard or Click on the Run button from the Dashboard above \n",
    "  - If you do not know how to get started, please go through the other [tutorials first](/notebooks/me35Notebook/Tutorials%20list.ipynb)\n",
    "2. Here I've just copy pasted all the libraries from the previous examples\n",
    "  - You can delete the libraries that are not necessary. For instance, if you are not using buttons, then you can get rid of the widgets library or if you are not using threading, you can get rid of threading library as well \n",
    "  - We need matplotlib library to plot a histogram and the OpenCV library for image manipulation\n",
    "  - What else do you think we need? What can we delete?"
   ]
  },
  {
   "cell_type": "code",
   "execution_count": 4,
   "metadata": {},
   "outputs": [],
   "source": [
    "# Import necessary Python libraries \n",
    "# OpenCV library\n",
    "import cv2\n",
    "# Python Imaging Library useed to load images from files, and to create new images\n",
    "import PIL.Image\n",
    "# BytesIO implements read and write bytes data in memory\n",
    "from io import BytesIO\n",
    "# Library to display stuff and clear stuff on Jupyer Notebook \n",
    "import IPython.display\n",
    "from IPython.display import clear_output\n",
    "from IPython.display import display, HTML\n",
    "# Library that makes calls to openCV a bit more convinient \n",
    "import imutils\n",
    "# Useful library for array manipulation \n",
    "import numpy as np\n",
    "# Time library for delay \n",
    "import time\n",
    "# Library to integrate buttons and user inputs\n",
    "from ipywidgets import widgets\n",
    "# Import library for threading \n",
    "import datetime, threading\n",
    "# Import library to generate plots and histograms\n",
    "import matplotlib.pyplot as plt"
   ]
  },
  {
   "cell_type": "markdown",
   "metadata": {},
   "source": [
    "3. Try grabbing an image from your camera\n",
    "  - Capture an image of a red object (maybe a red LEGO brick, YouTube logo, Elmo, or a Clown's nose)\n",
    "  - Here's a [hint](/notebooks/me35Notebook/opencv/02%20Learn%20to%20use%20Camera.ipynb) if you don't know how to grab an image from the PiCamera"
   ]
  },
  {
   "cell_type": "code",
   "execution_count": null,
   "metadata": {},
   "outputs": [],
   "source": [
    "# Type your code here"
   ]
  },
  {
   "cell_type": "markdown",
   "metadata": {},
   "source": [
    "4. Show the histogram of red, green, and blue values in that image\n",
    "  - [Hint](/notebooks/me35Notebook/opencv/07%20Plot%20histograms.ipynb)"
   ]
  },
  {
   "cell_type": "code",
   "execution_count": null,
   "metadata": {},
   "outputs": [],
   "source": [
    "# Type your code here"
   ]
  },
  {
   "cell_type": "markdown",
   "metadata": {},
   "source": [
    "5. Pull off just the red plane. Try seeing if you can find the red ball in the image.  \n",
    "  - [Hint](/notebooks/me35Notebook/opencv/07%20Plot%20histograms.ipynb)"
   ]
  },
  {
   "cell_type": "code",
   "execution_count": null,
   "metadata": {},
   "outputs": [],
   "source": [
    "# Type your code here"
   ]
  },
  {
   "cell_type": "markdown",
   "metadata": {},
   "source": [
    "6. Try subtracting the green and blue planes from the red plane. Can you now differentiate between the red ball and the white wall?  \n",
    "  - For hints on how to grab an image go to the link as suggested by the following code "
   ]
  },
  {
   "cell_type": "code",
   "execution_count": null,
   "metadata": {},
   "outputs": [],
   "source": [
    "# Type your code here"
   ]
  },
  {
   "cell_type": "markdown",
   "metadata": {},
   "source": [
    "7. See if you can find shapes in the image."
   ]
  },
  {
   "cell_type": "code",
   "execution_count": null,
   "metadata": {},
   "outputs": [],
   "source": [
    "# Type your code here"
   ]
  },
  {
   "cell_type": "markdown",
   "metadata": {},
   "source": [
    "8. What about finding the face in an image"
   ]
  },
  {
   "cell_type": "code",
   "execution_count": null,
   "metadata": {},
   "outputs": [],
   "source": [
    "# Type your code here"
   ]
  },
  {
   "cell_type": "code",
   "execution_count": null,
   "metadata": {},
   "outputs": [],
   "source": []
  }
 ],
 "metadata": {
  "kernelspec": {
   "display_name": "Python 3",
   "language": "python",
   "name": "python3"
  },
  "language_info": {
   "codemirror_mode": {
    "name": "ipython",
    "version": 3
   },
   "file_extension": ".py",
   "mimetype": "text/x-python",
   "name": "python",
   "nbconvert_exporter": "python",
   "pygments_lexer": "ipython3",
   "version": "3.7.3"
  }
 },
 "nbformat": 4,
 "nbformat_minor": 2
}
