{
 "cells": [
  {
   "cell_type": "markdown",
   "metadata": {},
   "source": [
    "### ME 35 Image Processing Introduction\n",
    "The goal of this notebook is to get you able to do simple image processing.  Dipesh has built up a large number of help activities.  If you are new to Jupyter Notebooks, go [here](/notebooks/me35Notebook/Tutorials%20list.ipynb) to see a notebook on how to use notebooks."
   ]
  },
  {
   "cell_type": "markdown",
   "metadata": {},
   "source": [
    "### 1: Read an image\n",
    "The first step will be to figure out how to read an image from a file. To do this we will use [openCV](https://opencv-python-tutroals.readthedocs.io/en/latest/py_tutorials/py_tutorials.html). To do this from within a Jupyter Notebook requires a few extra python libraries and a little function.  You will need to convert the array to an image and then show it.\n",
    "- [PIL.Image](https://pillow.readthedocs.io/en/stable/reference/Image.html) - Python Image Library\n",
    "- [IPython.display](https://ipython.readthedocs.io/en/stable/api/generated/IPython.display.html) - display in the notebook\n",
    "- imutils and io - for converting things\n",
    "- [cv2 image read](https://opencv-python-tutroals.readthedocs.io/en/latest/py_tutorials/py_core/py_basic_ops/py_basic_ops.html?highlight=imread) - returns an array of BGR\n",
    "- [cv2 convert color](https://opencv-python-tutroals.readthedocs.io/en/latest/py_tutorials/py_imgproc/py_colorspaces/py_colorspaces.html?highlight=cvtcolor) - converts from BGR to RGB\n",
    "- [cv2 resize](https://opencv-python-tutroals.readthedocs.io/en/latest/py_tutorials/py_imgproc/py_geometric_transformations/py_geometric_transformations.html?highlight=resize) - resizes the image"
   ]
  },
  {
   "cell_type": "code",
   "execution_count": null,
   "metadata": {},
   "outputs": [],
   "source": [
    "import cv2\n",
    "import PIL.Image\n",
    "from io import BytesIO\n",
    "import IPython.display\n",
    "import imutils\n",
    "\n",
    "def array_to_image(a, fmt='png'):\n",
    "    f = BytesIO()\n",
    "    PIL.Image.fromarray(a).save(f, fmt)    \n",
    "    return IPython.display.Image(data=f.getvalue())\n",
    "\n",
    "d1 = IPython.display.display(\"Your image will be displayed here\", \n",
    "                             display_id=1)\n",
    "array = cv2.imread(\"/home/pi/Desktop/me35Notebook/images/chrisNew.png\")\n",
    "array = cv2.cvtColor(array, cv2.COLOR_BGR2RGB)\n",
    "array = imutils.resize(array, width=200, inter=cv2.INTER_LINEAR)\n",
    "image = array_to_image(array)\n",
    "d1.update(image)"
   ]
  },
  {
   "cell_type": "markdown",
   "metadata": {},
   "source": [
    "### 2: Mess with the image\n",
    "Try changing the size of the image to have a width of 400 pixels or a height of 150 pixels.  Try loading up a picture of Ethan instead (same path, only ethan.png).  Note that in the future - you can always update d1 (that space in the notebook) from anywhere else in the notebook."
   ]
  },
  {
   "cell_type": "markdown",
   "metadata": {},
   "source": [
    "### 3: Grab an image\n",
    "Now you should use OpenCV to grab an image and display it up in the space d1 where you should now have a picture of Ethan.  You will need to use\n",
    "[cv2 Videocapture class](https://opencv-python-tutroals.readthedocs.io/en/latest/py_tutorials/py_gui/py_video_display/py_video_display.html?highlight=videocapture) to grab an image.  Note that their example uses cv2.imshow - which will not work here in the notebook so you might want to adapt it using your code above.  If you run into difficulty, [Dipesh](/notebooks/me35Notebook/opencv/02%20Learn%20to%20use%20Camera.ipynb) has some hints."
   ]
  },
  {
   "cell_type": "code",
   "execution_count": null,
   "metadata": {},
   "outputs": [],
   "source": [
    "# Type your code here"
   ]
  },
  {
   "cell_type": "markdown",
   "metadata": {},
   "source": [
    "### 4: Messing with the camera\n",
    "Try viewing the image in color.  Or maybe just the red plane (all sorts of useful things are [here](https://opencv-python-tutroals.readthedocs.io/en/latest/py_tutorials/py_core/py_basic_ops/py_basic_ops.html?highlight=red%20plane)).  Or even better, take the red plane and subtract the green and blue planes from it - what do you have left?"
   ]
  },
  {
   "cell_type": "code",
   "execution_count": null,
   "metadata": {},
   "outputs": [],
   "source": [
    "# Type your code here"
   ]
  },
  {
   "cell_type": "markdown",
   "metadata": {},
   "source": [
    "### 5: Viewing the histogram\n",
    "It is often useful to see the distribution of red, green, and blue pixels.  For this, OpenCV very nicely has the [calcHist()](https://opencv-python-tutroals.readthedocs.io/en/latest/py_tutorials/py_imgproc/py_histograms/py_histogram_begins/py_histogram_begins.html#histograms-getting-started) property.  Try editing their example so that it uses the image of ethan or the image from your camera.  Note the use of matplotlib - a rather useful Python package."
   ]
  },
  {
   "cell_type": "code",
   "execution_count": null,
   "metadata": {},
   "outputs": [],
   "source": [
    "# Type your code here"
   ]
  },
  {
   "cell_type": "markdown",
   "metadata": {},
   "source": [
    "### 6: Binary Images\n",
    "To make life even easier (and faster), we will often take a greyscale image and [threshold](https://opencv-python-tutroals.readthedocs.io/en/latest/py_tutorials/py_imgproc/py_thresholding/py_thresholding.html?highlight=threshold) it so that all pixels below a given value will be 0 and all above will be 1.  From your histogram, choose a value that will split your image, and use that as a threshold and see how the resulting image turns out."
   ]
  },
  {
   "cell_type": "code",
   "execution_count": null,
   "metadata": {},
   "outputs": [],
   "source": [
    "# Type your code here"
   ]
  },
  {
   "cell_type": "markdown",
   "metadata": {},
   "source": [
    "### 7: Binary Morphology\n",
    "So now that you have an image, it is time to start identifying things in it.  The easiest way is with binary [morphology](https://opencv-python-tutroals.readthedocs.io/en/latest/py_tutorials/py_imgproc/py_morphological_ops/py_morphological_ops.html?highlight=binary%20morphology).  Once you have a binary image, you need to clean it up, getting rid of small imperfections.  Try applying some of these functions to your image:\n",
    "- erosion\n",
    "- dilation\n",
    "- opening\n",
    "- closing\n",
    "- subtracting the eroded image from the dilated one\n",
    "- or any other kernel that looks like fun\n"
   ]
  },
  {
   "cell_type": "code",
   "execution_count": null,
   "metadata": {},
   "outputs": [],
   "source": [
    "# Type your code here"
   ]
  },
  {
   "cell_type": "markdown",
   "metadata": {},
   "source": [
    "### 8: Wrap-up\n",
    "You should be able to write Python code now (on your laptop or the rPi) that leverages openCV to grab an image from the camera and allows you to look at the color planes and histogram. \n",
    "Check out some other examples [here](/notebooks/me35Notebook/Tutorials%20list.ipynb). "
   ]
  },
  {
   "cell_type": "code",
   "execution_count": null,
   "metadata": {},
   "outputs": [],
   "source": []
  }
 ],
 "metadata": {
  "kernelspec": {
   "display_name": "Python 3",
   "language": "python",
   "name": "python3"
  },
  "language_info": {
   "codemirror_mode": {
    "name": "ipython",
    "version": 3
   },
   "file_extension": ".py",
   "mimetype": "text/x-python",
   "name": "python",
   "nbconvert_exporter": "python",
   "pygments_lexer": "ipython3",
   "version": "3.7.3"
  }
 },
 "nbformat": 4,
 "nbformat_minor": 4
}
