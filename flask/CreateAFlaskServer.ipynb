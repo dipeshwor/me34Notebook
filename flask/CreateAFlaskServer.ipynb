{
 "cells": [
  {
   "cell_type": "markdown",
   "metadata": {},
   "source": [
    "### Create a flash server and update a variable\n",
    "Select Kernel>Restart and Clear Output for a fresh start"
   ]
  },
  {
   "cell_type": "code",
   "execution_count": 1,
   "metadata": {},
   "outputs": [],
   "source": [
    "# Import necessary library\n",
    "import time\n",
    "from flask import Flask\n",
    "import threading"
   ]
  },
  {
   "cell_type": "code",
   "execution_count": 2,
   "metadata": {},
   "outputs": [],
   "source": [
    "# Create Flask app\n",
    "app = Flask(__name__)"
   ]
  },
  {
   "cell_type": "code",
   "execution_count": 3,
   "metadata": {},
   "outputs": [],
   "source": [
    "# Create a global string variable named val\n",
    "val='0'"
   ]
  },
  {
   "cell_type": "code",
   "execution_count": 4,
   "metadata": {},
   "outputs": [],
   "source": [
    "# Create a function to change the value of a variable\n",
    "def changeValue():\n",
    "    global val\n",
    "    val=int(val)\n",
    "    val+=1\n",
    "    if val>9:\n",
    "        val=0 \n",
    "    return str(val)"
   ]
  },
  {
   "cell_type": "code",
   "execution_count": 5,
   "metadata": {
    "scrolled": false
   },
   "outputs": [],
   "source": [
    "# Create a main loop \n",
    "def main_loop():\n",
    "    value=changeValue()\n",
    "    print(value)\n",
    "    time.sleep(1)\n",
    "    main_loop()"
   ]
  },
  {
   "cell_type": "code",
   "execution_count": 6,
   "metadata": {},
   "outputs": [],
   "source": [
    "# Create a link so that a client can access the value \n",
    "# Open a new tab on your browser and enter IP:/getvalue to see the latest value\n",
    "# You can do a GET call to the url 'IP:/getvalue' to access the latest value \n",
    "@app.route('/getvalue', methods=['GET'])\n",
    "def getvalue():\n",
    "    global val\n",
    "    try:\n",
    "        return str(val)\n",
    "    except Exception as e:\n",
    "        return str(e)"
   ]
  },
  {
   "cell_type": "code",
   "execution_count": 7,
   "metadata": {},
   "outputs": [],
   "source": [
    "# Add favicon link to avoid 404 erroR \n",
    "@app.route('/favicon.ico', methods=['GET'])\n",
    "def favicon():\n",
    "    a='ignore'\n",
    "    return a"
   ]
  },
  {
   "cell_type": "code",
   "execution_count": 8,
   "metadata": {
    "scrolled": true
   },
   "outputs": [
    {
     "name": "stdout",
     "output_type": "stream",
     "text": [
      "1\n",
      " * Serving Flask app \"__main__\" (lazy loading)\n",
      " * Environment: production\n",
      "   WARNING: Do not use the development server in a production environment.\n",
      "   Use a production WSGI server instead.\n",
      " * Debug mode: on\n"
     ]
    },
    {
     "name": "stderr",
     "output_type": "stream",
     "text": [
      " * Running on http://0.0.0.0:5000/ (Press CTRL+C to quit)\n"
     ]
    },
    {
     "name": "stdout",
     "output_type": "stream",
     "text": [
      "2\n",
      "3\n",
      "4\n",
      "5\n",
      "6\n",
      "7\n"
     ]
    },
    {
     "name": "stderr",
     "output_type": "stream",
     "text": [
      "127.0.0.1 - - [31/Jan/2020 11:01:30] \"GET /getvalue HTTP/1.1\" 200 -\n",
      "127.0.0.1 - - [31/Jan/2020 11:01:30] \"GET /favicon.ico HTTP/1.1\" 200 -\n"
     ]
    },
    {
     "name": "stdout",
     "output_type": "stream",
     "text": [
      "8\n"
     ]
    },
    {
     "name": "stderr",
     "output_type": "stream",
     "text": [
      "127.0.0.1 - - [31/Jan/2020 11:01:31] \"GET /getvalue HTTP/1.1\" 200 -\n",
      "127.0.0.1 - - [31/Jan/2020 11:01:31] \"GET /favicon.ico HTTP/1.1\" 200 -\n",
      "127.0.0.1 - - [31/Jan/2020 11:01:31] \"GET /getvalue HTTP/1.1\" 200 -\n",
      "127.0.0.1 - - [31/Jan/2020 11:01:31] \"GET /favicon.ico HTTP/1.1\" 200 -\n"
     ]
    },
    {
     "name": "stdout",
     "output_type": "stream",
     "text": [
      "9\n"
     ]
    },
    {
     "name": "stderr",
     "output_type": "stream",
     "text": [
      "127.0.0.1 - - [31/Jan/2020 11:01:32] \"GET /getvalue HTTP/1.1\" 200 -\n",
      "127.0.0.1 - - [31/Jan/2020 11:01:32] \"GET /favicon.ico HTTP/1.1\" 200 -\n",
      "127.0.0.1 - - [31/Jan/2020 11:01:32] \"GET /getvalue HTTP/1.1\" 200 -\n",
      "127.0.0.1 - - [31/Jan/2020 11:01:33] \"GET /favicon.ico HTTP/1.1\" 200 -\n"
     ]
    },
    {
     "name": "stdout",
     "output_type": "stream",
     "text": [
      "0\n"
     ]
    },
    {
     "name": "stderr",
     "output_type": "stream",
     "text": [
      "127.0.0.1 - - [31/Jan/2020 11:01:33] \"GET /getvalue HTTP/1.1\" 200 -\n",
      "127.0.0.1 - - [31/Jan/2020 11:01:33] \"GET /favicon.ico HTTP/1.1\" 200 -\n"
     ]
    },
    {
     "name": "stdout",
     "output_type": "stream",
     "text": [
      "1\n",
      "2\n",
      "3\n",
      "4\n",
      "5\n",
      "6\n"
     ]
    }
   ],
   "source": [
    "# Start the Flask server on port 5000 \n",
    "# Start the main loop as a thread \n",
    "# Click on this cell and press 'i' twich to stop the loop or select Kernel>Interrupt \n",
    "# Add use_reloader=False to make it work on Jupyter Notebook\n",
    "if __name__ == '__main__':\n",
    "    p=threading.Thread(target=main_loop)\n",
    "    p.start()\n",
    "    app.run(host='0.0.0.0', port=5000, debug=True, threaded = True, use_reloader=False)"
   ]
  },
  {
   "cell_type": "code",
   "execution_count": null,
   "metadata": {},
   "outputs": [],
   "source": []
  }
 ],
 "metadata": {
  "kernelspec": {
   "display_name": "Python 3",
   "language": "python",
   "name": "python3"
  },
  "language_info": {
   "codemirror_mode": {
    "name": "ipython",
    "version": 3
   },
   "file_extension": ".py",
   "mimetype": "text/x-python",
   "name": "python",
   "nbconvert_exporter": "python",
   "pygments_lexer": "ipython3",
   "version": "3.7.3"
  }
 },
 "nbformat": 4,
 "nbformat_minor": 2
}
