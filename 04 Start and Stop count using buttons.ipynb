{
 "cells": [
  {
   "cell_type": "markdown",
   "metadata": {},
   "source": [
    "### Let's learn to use Start and Stop buttons to start and stop counting\n",
    "1. We start by importing the necessary Python libraries. \n",
    "  - To import the libraries, click on the cell below (You can tell if the cell is slected if you see a Green outline surrounding the cell), and \n",
    "  - Hit Shift + Enter on your keyboard or Click on the Run button from the Dashboard above \n"
   ]
  },
  {
   "cell_type": "code",
   "execution_count": null,
   "metadata": {},
   "outputs": [],
   "source": [
    "# Import necessary Python libraries \n",
    "# Library to display stuff and clear stuff on Jupyer Notebook \n",
    "import IPython.display\n",
    "from IPython.display import clear_output\n",
    "# Time library for delay \n",
    "import time\n",
    "# Library to integrate buttons and user inputs\n",
    "from ipywidgets import widgets\n",
    "# Import library for threading \n",
    "import datetime, threading"
   ]
  },
  {
   "cell_type": "markdown",
   "metadata": {},
   "source": [
    "2. Lets declare the necessary variables "
   ]
  },
  {
   "cell_type": "code",
   "execution_count": null,
   "metadata": {},
   "outputs": [],
   "source": [
    "# Declare variables\n",
    "next_call = time.time()\n",
    "count = 0 "
   ]
  },
  {
   "cell_type": "markdown",
   "metadata": {},
   "source": [
    "3. Set the flag to 0 at the start "
   ]
  },
  {
   "cell_type": "code",
   "execution_count": null,
   "metadata": {},
   "outputs": [],
   "source": [
    "# Set flag to 0\n",
    "f = open(\"flag.txt\", \"w\")\n",
    "f.write(\"0\")\n",
    "f.close()"
   ]
  },
  {
   "cell_type": "markdown",
   "metadata": {},
   "source": [
    "4. Lets create a timer callback that calls itself every 1 second"
   ]
  },
  {
   "cell_type": "code",
   "execution_count": null,
   "metadata": {},
   "outputs": [],
   "source": [
    "# Timer callback to check if the flag is high or not \n",
    "def callFunction():\n",
    "    global next_call, count\n",
    "    #print(datetime.datetime.now())\n",
    "    next_call = next_call + 1\n",
    "    # Open the file to see if the flag is set high \n",
    "    f = open(\"flag.txt\", \"r\")\n",
    "    flag=f.read()\n",
    "    f.close()\n",
    "    # Save the file to disk, if the flag is high\n",
    "    # open and set the flag to 0 again:\n",
    "    if flag=='1':\n",
    "        count+=1\n",
    "    else:\n",
    "        count=0\n",
    "        \n",
    "    threading.Timer(next_call-time.time(), callFunction).start()"
   ]
  },
  {
   "cell_type": "markdown",
   "metadata": {},
   "source": [
    "5. Lets create function that updates the flag to 1 when you click the start button"
   ]
  },
  {
   "cell_type": "code",
   "execution_count": null,
   "metadata": {},
   "outputs": [],
   "source": [
    "# Function to handle button click\n",
    "def on_startButton_clicked(b):\n",
    "    f = open(\"flag.txt\", \"w\")\n",
    "    f.write(\"1\")\n",
    "    f.close()\n",
    "    f = open(\"flag.txt\", \"r\")\n",
    "    #print(f.read())\n",
    "    f.close()"
   ]
  },
  {
   "cell_type": "markdown",
   "metadata": {},
   "source": [
    "6. Lets create function that updates the flag to 1 when you click the stop button"
   ]
  },
  {
   "cell_type": "code",
   "execution_count": null,
   "metadata": {},
   "outputs": [],
   "source": [
    "# Function to handle button click\n",
    "def on_stopButton_clicked(b):\n",
    "    f = open(\"flag.txt\", \"w\")\n",
    "    f.write(\"0\")\n",
    "    f.close()\n",
    "    f = open(\"flag.txt\", \"r\")\n",
    "    #print(f.read())\n",
    "    f.close()"
   ]
  },
  {
   "cell_type": "markdown",
   "metadata": {},
   "source": [
    "7. Lets display the Start button. \n",
    "  - The button won't work right away because we have not started the main loop yet. "
   ]
  },
  {
   "cell_type": "code",
   "execution_count": null,
   "metadata": {},
   "outputs": [],
   "source": [
    "# Display the button\n",
    "startButton = widgets.Button(description=\"Start\")\n",
    "display(startButton)\n",
    "\n",
    "# Call on_button_clicked function to print the message\n",
    "startButton.on_click(on_startButton_clicked)"
   ]
  },
  {
   "cell_type": "markdown",
   "metadata": {},
   "source": [
    "8. Lets display the Stop button. \n",
    "  - The button won't work right away because we have not started the main loop yet. "
   ]
  },
  {
   "cell_type": "code",
   "execution_count": null,
   "metadata": {},
   "outputs": [],
   "source": [
    "# Display the button\n",
    "stopButton = widgets.Button(description=\"Stop\")\n",
    "display(stopButton)\n",
    "\n",
    "# Call on_button_clicked function to print the message\n",
    "stopButton.on_click(on_stopButton_clicked)"
   ]
  },
  {
   "cell_type": "markdown",
   "metadata": {},
   "source": [
    "9. Lets print the value of count every 1 second"
   ]
  },
  {
   "cell_type": "code",
   "execution_count": null,
   "metadata": {},
   "outputs": [],
   "source": [
    "# Create a main loop \n",
    "def main_loop():\n",
    "    global count\n",
    "    print(count)\n",
    "    time.sleep(1)\n",
    "    main_loop()"
   ]
  },
  {
   "cell_type": "markdown",
   "metadata": {},
   "source": [
    "10. Lets start the main loop and the timer call back.\n",
    "  - Scroll up to click on the Start button to start counting\n",
    "  - Click on the Stop button to reset count to 0 "
   ]
  },
  {
   "cell_type": "code",
   "execution_count": null,
   "metadata": {},
   "outputs": [],
   "source": [
    "# Add this to avoid \"Maximum recursion depth error\"\n",
    "import sys\n",
    "sys.setrecursionlimit(100000)\n",
    "# Start the main loop using a thread \n",
    "p=threading.Thread(target=main_loop)\n",
    "p.start()\n",
    "# Start the timer callback \n",
    "callFunction()"
   ]
  },
  {
   "cell_type": "markdown",
   "metadata": {},
   "source": [
    "11. Note: Don't run this right away. Scroll above to use the Start and the Stop button"
   ]
  },
  {
   "cell_type": "code",
   "execution_count": null,
   "metadata": {},
   "outputs": [],
   "source": [
    "# Stop the thread\n",
    "p.join()"
   ]
  },
  {
   "cell_type": "markdown",
   "metadata": {},
   "source": [
    "12. Yay! You've made it to the end of this tutorial. \n",
    "  - Please click on Kernel>Restart and Clear Output and Click on \"Restart and Clear All Outputs\" so that the next person going throught the tutorial can start fresh. Thanks."
   ]
  },
  {
   "cell_type": "code",
   "execution_count": null,
   "metadata": {},
   "outputs": [],
   "source": []
  }
 ],
 "metadata": {
  "kernelspec": {
   "display_name": "Python 3",
   "language": "python",
   "name": "python3"
  },
  "language_info": {
   "codemirror_mode": {
    "name": "ipython",
    "version": 3
   },
   "file_extension": ".py",
   "mimetype": "text/x-python",
   "name": "python",
   "nbconvert_exporter": "python",
   "pygments_lexer": "ipython3",
   "version": "3.7.3"
  }
 },
 "nbformat": 4,
 "nbformat_minor": 4
}
