{
 "cells": [
  {
   "cell_type": "markdown",
   "metadata": {},
   "source": [
    "## Getting started \n",
    "1. When you enter the IP for your Raspberry Pi, it loads up a Jupyter Notebook. But before you get started, there are a few things that will help you navigate the Jupyter Notebook. \n",
    "  - You will have to switch between this tutorial page and the Home page to follow the tutorial\n",
    "  - On the right side of your screen on your Home page, click on New\n",
    "  - Click on Terminal \n",
    "  - This will open a new tab on your browser\n",
    "  - Scroll to follow along the rest of the tutorial"
   ]
  },
  {
   "cell_type": "markdown",
   "metadata": {},
   "source": [
    "![title](images/step2.jpg)"
   ]
  },
  {
   "cell_type": "markdown",
   "metadata": {},
   "source": [
    "2. Since, the Jupyter Notebook is programmed to run on startup, it prompts you to Press Ctrl+C to Exit. \n",
    "  - Press 'Ctrl' key and 'c' key on your keyboard\n",
    "  - Type 'y' and Press 'Enter' when prompted "
   ]
  },
  {
   "cell_type": "markdown",
   "metadata": {},
   "source": [
    "![title](images/step3.jpg)"
   ]
  },
  {
   "cell_type": "markdown",
   "metadata": {},
   "source": [
    "3. You now enter the terminal. You can type commands in the terminal. \n",
    "  - Try typing 'clear' and pressing the 'Enter' key. What does it do?\n",
    "  - Type 'ls' and press 'Enter'. What does it do?"
   ]
  },
  {
   "cell_type": "markdown",
   "metadata": {},
   "source": [
    "![title](images/step4.jpg)"
   ]
  },
  {
   "cell_type": "markdown",
   "metadata": {},
   "source": [
    "4. Was your guess correct?\n",
    "  - clear will clear the terminal screen\n",
    "  - ls lists the folders and files that are in the current directory (You can notice sub folders like Desktop and Downloads)"
   ]
  },
  {
   "cell_type": "markdown",
   "metadata": {},
   "source": [
    "![title](images/step5.jpg)"
   ]
  },
  {
   "cell_type": "markdown",
   "metadata": {},
   "source": [
    "5. cd will change the directory. \n",
    "  - Type 'cd Desktop' and press 'Enter'\n",
    "  - Type 'ls' to see the folders that are in the Desktop"
   ]
  },
  {
   "cell_type": "markdown",
   "metadata": {},
   "source": [
    "![title](images/step6.jpg)"
   ]
  },
  {
   "cell_type": "markdown",
   "metadata": {},
   "source": [
    "6. You might have an older version of me35Notebook folder.\n",
    "  - Lets delete the folder by using remove (rm) command \n",
    "  - Type 'sudo rm -R me35Notebook' and press 'Enter'\n",
    "  - Note: You can also press 'Tab' on your keyboard for auto-completion, to make sure you're entering the right folder \n",
    "  - Type ls to check if the folder is still there or if it was actually removed"
   ]
  },
  {
   "cell_type": "markdown",
   "metadata": {},
   "source": [
    "![title](images/step7.jpg)"
   ]
  },
  {
   "cell_type": "markdown",
   "metadata": {},
   "source": [
    "7. Lets download the lasest me35Notebook folder from github.\n",
    "  - Lets use the git clone command to download the folder \n",
    "  - Type 'git clone https://github.com/dipeshwor/me35Notebook' and press 'Enter'\n",
    "  - Type ls to see if the folder has been updated \n"
   ]
  },
  {
   "cell_type": "markdown",
   "metadata": {},
   "source": [
    "![title](images/step8.jpg)"
   ]
  },
  {
   "cell_type": "markdown",
   "metadata": {},
   "source": [
    "8. Now we have the latest me35Notebook folder, lets close the terminal tab and go to the original tab where we started from. \n",
    "  - You'll notice the me35Notebook folder \n",
    "  - Click to enter that folder "
   ]
  },
  {
   "cell_type": "markdown",
   "metadata": {},
   "source": [
    "![title](images/step9.jpg)"
   ]
  },
  {
   "cell_type": "markdown",
   "metadata": {},
   "source": [
    "9. You'll see other subfolder. \n",
    "  - Start with the 01 Click Me!Click Me!.ipynb Jupyter Notebook to learn how to use Jupyter Notebook and Python\n",
    "  - After you complete the first tutorial, you can explore other tutorials based on your interest \n",
    "  - There are tutorials for Python, OpenCV and Flask server"
   ]
  },
  {
   "cell_type": "markdown",
   "metadata": {},
   "source": [
    "![title](images/step10.jpg)"
   ]
  },
  {
   "cell_type": "markdown",
   "metadata": {},
   "source": [
    "10. Open the first tutorial. \n",
    "  - Follow the instruction and run the corresponding code\n",
    "  - Enjoy learning"
   ]
  },
  {
   "cell_type": "markdown",
   "metadata": {},
   "source": [
    "![title](images/step11.jpg)"
   ]
  },
  {
   "cell_type": "code",
   "execution_count": null,
   "metadata": {},
   "outputs": [],
   "source": []
  }
 ],
 "metadata": {
  "kernelspec": {
   "display_name": "Python 3",
   "language": "python",
   "name": "python3"
  },
  "language_info": {
   "codemirror_mode": {
    "name": "ipython",
    "version": 3
   },
   "file_extension": ".py",
   "mimetype": "text/x-python",
   "name": "python",
   "nbconvert_exporter": "python",
   "pygments_lexer": "ipython3",
   "version": "3.7.3"
  }
 },
 "nbformat": 4,
 "nbformat_minor": 4
}
