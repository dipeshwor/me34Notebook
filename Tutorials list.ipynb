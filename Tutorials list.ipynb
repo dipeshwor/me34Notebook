{
 "cells": [
  {
   "cell_type": "markdown",
   "metadata": {},
   "source": [
    "### Tutorial list\n",
    "1. [Home](/notebooks/me35Notebook/)\n",
    "2. [Python](/notebooks/me35Notebook/python)\n",
    "  - [Python Basics](/notebooks/me35Notebook/python/01%20Python%20Basics.ipynb)\n",
    "  - [Parse Strings](/notebooks/me35Notebook/python/01%20Parse%20string%2C%20Open%20and%20Save%20file.ipynb)\n",
    "3. [OpenCV](/notebooks/me35Notebook/openCV)\n",
    "  - [OpenCV Basics](/notebooks/me35Notebook/opencv/01%20OpenCV%20Basics.ipynb) \n",
    "  - [Learn to use PiCamera](/notebooks/me35Notebook/opencv/02%20Learn%20to%20use%20Camera.ipynb)\n",
    "  - [Capture Pictures with a button](/notebooks/me35Notebook/opencv/03%20Capture%20picture%20by%20a%20click%20of%20a%20button.ipynb)\n",
    "  - [Start and Stop button](/notebooks/me35Notebook/opencv/04%20Start%20and%20Stop%20count%20using%20buttons.ipynb)\n",
    "  - [Capture and Save video](/notebooks/me35Notebook/opencv/05%20Save%20a%20video%20using%20openCV.ipynb)\n",
    "  - [Capture and Save video using buttons](/notebooks/me35Notebook/opencv/06%20Start%20and%20Stop%20video%20capture%20with%20Start%20and%20Stop%20buttons.ipynb)\n",
    "  - [Plot Histograms](/notebooks/me35Notebook/opencv/07%20Plot%20histograms.ipynb)\n",
    "4. [Flask Server](/notebooks/me35Notebook/flask)\n",
    "  - [Create a simple flask server](/notebooks/me35Notebook/flask/01%20CreateAFlaskServer.ipynb)\n",
    "5. [Assignments](/notebooks/me35Notebook/assignments)\n",
    "  - [OpenCV Assignment](/notebooks/me35Notebook/assignments/01%20OpenCV%20assignment.ipynb)"
   ]
  }
 ],
 "metadata": {
  "kernelspec": {
   "display_name": "Python 3",
   "language": "python",
   "name": "python3"
  },
  "language_info": {
   "codemirror_mode": {
    "name": "ipython",
    "version": 3
   },
   "file_extension": ".py",
   "mimetype": "text/x-python",
   "name": "python",
   "nbconvert_exporter": "python",
   "pygments_lexer": "ipython3",
   "version": "3.7.3"
  }
 },
 "nbformat": 4,
 "nbformat_minor": 4
}
