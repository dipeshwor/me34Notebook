{
 "cells": [
  {
   "cell_type": "markdown",
   "metadata": {},
   "source": [
    "### Lets learn execute shell commands from Jupyter Notebook\n",
    "1. Jupyter Notebook has two sections. One for the text (this section) and the other for code (the section below). \n",
    "2. We can execute shell commands by adding an '!' before the command. Lets execute our first shell command\n",
    "  - Click on the cell below (You can tell if the cell is slected if you see a Green outline surrounding the cell), and \n",
    "  - Hit 'Shift' + 'Enter' on your keyboard or Click on the Run button from the Dashboard above to execute the code"
   ]
  },
  {
   "cell_type": "code",
   "execution_count": null,
   "metadata": {},
   "outputs": [],
   "source": [
    "# List the files and folders on the current directory\n",
    "!ls"
   ]
  },
  {
   "cell_type": "markdown",
   "metadata": {},
   "source": [
    "3. Congratulations! You have successfully executed a shell command on Jupyter Notebook\n",
    "  - Notice the nuber inside the square brackets? Eg. In [1]. \n",
    "  - Select the above cell once again and Hit Shift + Enter on your keyboard and see what happens\n",
    "  - The number increases Eg. In [2]. The number indicate the order of execution of the codes in the cell and In indicate Input\n",
    "  - The [*] indicates that the code is still running\n",
    "4. ls lists the files and folders on the current directory\n",
    "5. The me35Notebook folder might be an older version, so let's remove it first using the rm command "
   ]
  },
  {
   "cell_type": "code",
   "execution_count": null,
   "metadata": {},
   "outputs": [],
   "source": [
    "# Remove a directory and files that are inside the directory\n",
    "!rm -R me35Notebook"
   ]
  },
  {
   "cell_type": "markdown",
   "metadata": {},
   "source": [
    "6. Lets see if the folder got removed. \n",
    "  - You should not see the me35Notebook folder which we just deleted"
   ]
  },
  {
   "cell_type": "code",
   "execution_count": null,
   "metadata": {},
   "outputs": [],
   "source": [
    "# List the files and folders on the current directory\n",
    "!ls"
   ]
  },
  {
   "cell_type": "markdown",
   "metadata": {},
   "source": [
    "7. Lets download the latest version of me35Notebook from github by running the following command"
   ]
  },
  {
   "cell_type": "code",
   "execution_count": null,
   "metadata": {},
   "outputs": [],
   "source": [
    "# Download the folder from gihub\n",
    "!git clone https://github.com/dipeshwor/me35Notebook"
   ]
  },
  {
   "cell_type": "markdown",
   "metadata": {},
   "source": [
    "8. Lets see if the folder got saved. \n",
    "  - You should see the me35Notebook folder reappear in the list"
   ]
  },
  {
   "cell_type": "code",
   "execution_count": null,
   "metadata": {
    "scrolled": true
   },
   "outputs": [],
   "source": [
    "# List the files and folders on the current directory\n",
    "!ls"
   ]
  },
  {
   "cell_type": "markdown",
   "metadata": {},
   "source": [
    "9. There are various tutorials that we have designed to help you learn Python, Flask and OpenCV using Jupyter Notebook. \n",
    "  - You can directly access there Jupyter Notebooks from your Home directory as well "
   ]
  },
  {
   "cell_type": "markdown",
   "metadata": {},
   "source": [
    "1. [Home](/notebooks/me35Notebook/)\n",
    "2. [Python](/notebooks/me35Notebook/python)\n",
    "  - [Python Basics](/notebooks/me35Notebook/python/01%20Python%20Basics.ipynb)\n",
    "  - [Parse Strings](/notebooks/me35Notebook/python/01%20Parse%20string%2C%20Open%20and%20Save%20file.ipynb)\n",
    "3. [OpenCV](/notebooks/me35Notebook/openCV)\n",
    "  - [OpenCV Basics](/notebooks/me35Notebook/opencv/01%20OpenCV%20Basics.ipynb) \n",
    "  - [Learn to use PiCamera](/notebooks/me35Notebook/opencv/02%20Learn%20to%20use%20Camera.ipynb)\n",
    "  - [Capture Pictures with a button](/notebooks/me35Notebook/opencv/03%20Capture%20picture%20by%20a%20click%20of%20a%20button.ipynb)\n",
    "  - [Start and Stop button](/notebooks/me35Notebook/opencv/04%20Start%20and%20Stop%20count%20using%20buttons.ipynb)\n",
    "  - [Capture and Save video](/notebooks/me35Notebook/opencv/05%20Save%20a%20video%20using%20openCV.ipynb)\n",
    "  - [Capture and Save video using buttons](/notebooks/me35Notebook/opencv/06%20Start%20and%20Stop%20video%20capture%20with%20Start%20and%20Stop%20buttons.ipynb)\n",
    "  - [Plot Histograms](/notebooks/me35Notebook/opencv/07%20Plot%20histograms.ipynb)\n",
    "4. [Flask Server](/notebooks/me35Notebook/flask)\n",
    "  - [Create a simple flask server](/notebooks/me35Notebook/flask/01%20CreateAFlaskServer.ipynb)\n",
    "5. [Assignments](/notebooks/me35Notebook/assignments)\n",
    "  - [OpenCV Assignment](/notebooks/me35Notebook/assignments/01%20OpenCV%20assignment.ipynb)"
   ]
  },
  {
   "cell_type": "markdown",
   "metadata": {},
   "source": [
    "10. Yay! You've made it to the end of this tutorial. \n",
    "  - Please click on Kernel>Restart and Clear Output and Click on \"Restart and Clear All Outputs\" so that the next person going throught the tutorial can start fresh. Thanks. "
   ]
  },
  {
   "cell_type": "code",
   "execution_count": null,
   "metadata": {},
   "outputs": [],
   "source": []
  }
 ],
 "metadata": {
  "kernelspec": {
   "display_name": "Python 3",
   "language": "python",
   "name": "python3"
  },
  "language_info": {
   "codemirror_mode": {
    "name": "ipython",
    "version": 3
   },
   "file_extension": ".py",
   "mimetype": "text/x-python",
   "name": "python",
   "nbconvert_exporter": "python",
   "pygments_lexer": "ipython3",
   "version": "3.7.3"
  }
 },
 "nbformat": 4,
 "nbformat_minor": 4
}
