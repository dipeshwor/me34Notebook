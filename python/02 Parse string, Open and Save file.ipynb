{
 "cells": [
  {
   "cell_type": "markdown",
   "metadata": {},
   "source": [
    "### Lets learn the basics of Jupyter Notebook\n",
    "1. Jupyter Notebook has two sections. One for the text (markdown) and the other for code. \n",
    "2. We can execute shell commands by adding an '!' before the command. Lets execute our first shell command\n",
    "  - Click on the cell below (You can tell if the cell is slected if you see a Green outline surrounding the cell), and \n",
    "  - Hit 'Shift' + 'Enter' on your keyboard or Click on the Run button from the Dashboard above to execute the code"
   ]
  },
  {
   "cell_type": "markdown",
   "metadata": {},
   "source": [
    "3. Since we are running the Jupyter Notebook on a Raspberry Pi connected to the WiFi, we have different IP addresses. \n",
    "  - Lets try to retrieve the IP address by using the ifconfig command \n",
    "  - Note: This step is essential for the Jupyter Notebook tutorial links to work. "
   ]
  },
  {
   "cell_type": "code",
   "execution_count": null,
   "metadata": {
    "scrolled": true
   },
   "outputs": [],
   "source": [
    "# Display the status of the system's active interfaces\n",
    "!ifconfig"
   ]
  },
  {
   "cell_type": "markdown",
   "metadata": {},
   "source": [
    "4. There is a lot of information here. Any guesses on where you can find your IP address?\n",
    "  - We just need the value right after 'inet' inside 'wlan0'\n",
    "  - Lets first save the output of the shell command to a text file by adding >>filename.txt to the previous shell command"
   ]
  },
  {
   "cell_type": "code",
   "execution_count": null,
   "metadata": {
    "scrolled": true
   },
   "outputs": [],
   "source": [
    "# Save the ouput of the shell command to a text file \n",
    "!ifconfig>>output.txt"
   ]
  },
  {
   "cell_type": "markdown",
   "metadata": {},
   "source": [
    "5. Now lets open the text file by using some python commands \n",
    "  - Note that we are getting rid of the '!' mark to execute the python commands "
   ]
  },
  {
   "cell_type": "code",
   "execution_count": null,
   "metadata": {
    "scrolled": true
   },
   "outputs": [],
   "source": [
    "#Open the file, read the value and close the file \n",
    "f = open(\"output.txt\",\"r\")\n",
    "text=f.read()\n",
    "f.close()\n",
    "print(text)"
   ]
  },
  {
   "cell_type": "markdown",
   "metadata": {},
   "source": [
    "6. But how do we select the useful information from all the text?\n",
    "  - Lets use Python's split command to retrieve the information (in this case our IP) "
   ]
  },
  {
   "cell_type": "code",
   "execution_count": null,
   "metadata": {
    "scrolled": true
   },
   "outputs": [],
   "source": [
    "# Split the string into two parts right at 'wlan0'\n",
    "ip = text.split('wlan0')\n",
    "# We need the 2nd part of the list, so we are using [1]\n",
    "print(ip[1])"
   ]
  },
  {
   "cell_type": "markdown",
   "metadata": {},
   "source": [
    "7. Lets use the split command again to retrieve the information"
   ]
  },
  {
   "cell_type": "code",
   "execution_count": null,
   "metadata": {
    "scrolled": true
   },
   "outputs": [],
   "source": [
    "# Split the string into two parts right at 'inet'\n",
    "ip = ip[1].split('inet')\n",
    "# We need the 2nd part of the list, so we are using [1]\n",
    "print(ip[1])"
   ]
  },
  {
   "cell_type": "markdown",
   "metadata": {},
   "source": [
    "8. Lets use the split command one more time"
   ]
  },
  {
   "cell_type": "code",
   "execution_count": null,
   "metadata": {
    "scrolled": true
   },
   "outputs": [],
   "source": [
    "# Split the string into two parts right at ' '\n",
    "ip = ip[1].split(' ')\n",
    "# We need the 2nd part of the list, so we are using [1]\n",
    "ip=ip[1]\n",
    "print(ip)"
   ]
  },
  {
   "cell_type": "markdown",
   "metadata": {},
   "source": [
    "9. Lets save this value to a text file called ip.txt so that it can be accessed by other Jupyter Notebooks we will be using in this course"
   ]
  },
  {
   "cell_type": "code",
   "execution_count": null,
   "metadata": {
    "scrolled": true
   },
   "outputs": [],
   "source": [
    "#Open the file, write the value and close the file \n",
    "f = open(\"ip.txt\",\"w\")\n",
    "f.write(ip)\n",
    "f.close()\n",
    "print('Done')"
   ]
  },
  {
   "cell_type": "markdown",
   "metadata": {},
   "source": [
    "10. Lets see if the file got saved by opening the file, reading the content and displaying the content"
   ]
  },
  {
   "cell_type": "code",
   "execution_count": null,
   "metadata": {
    "scrolled": true
   },
   "outputs": [],
   "source": [
    "#Open the file, read the value and close the file \n",
    "f = open(\"ip.txt\",\"r\")\n",
    "ip=f.read()\n",
    "f.close()\n",
    "print(ip)"
   ]
  },
  {
   "cell_type": "markdown",
   "metadata": {},
   "source": [
    "11. Yay! You've made it to the end of this tutorial. \n",
    "  - Please click on Kernel>Restart and Clear Output and Click on \"Restart and Clear All Outputs\" so that the next person going throught the tutorial can start fresh. Thanks. "
   ]
  },
  {
   "cell_type": "code",
   "execution_count": null,
   "metadata": {},
   "outputs": [],
   "source": []
  }
 ],
 "metadata": {
  "kernelspec": {
   "display_name": "Python 3",
   "language": "python",
   "name": "python3"
  },
  "language_info": {
   "codemirror_mode": {
    "name": "ipython",
    "version": 3
   },
   "file_extension": ".py",
   "mimetype": "text/x-python",
   "name": "python",
   "nbconvert_exporter": "python",
   "pygments_lexer": "ipython3",
   "version": "3.7.3"
  }
 },
 "nbformat": 4,
 "nbformat_minor": 4
}
